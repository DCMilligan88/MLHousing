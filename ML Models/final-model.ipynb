{
 "cells": [
  {
   "cell_type": "markdown",
   "metadata": {},
   "source": [
    "## Setup"
   ]
  },
  {
   "cell_type": "code",
   "execution_count": 1,
   "metadata": {},
   "outputs": [],
   "source": [
    "# Import Dependencies.\n",
    "import matplotlib.pyplot as plt\n",
    "import numpy as np\n",
    "import pandas as pd\n",
    "\n",
    "import requests\n",
    "import json\n",
    "\n",
    "from sklearn.ensemble import RandomForestClassifier\n",
    "from sklearn.model_selection import train_test_split\n",
    "from sklearn.preprocessing import LabelEncoder\n",
    "from sklearn.preprocessing import MinMaxScaler\n",
    "\n",
    "from tensorflow.keras.models import load_model\n",
    "from tensorflow.keras.utils import to_categorical\n",
    "from tensorflow.keras.models import Sequential\n",
    "from tensorflow.keras.layers import Dense\n",
    "\n",
    "from joblib import dump, load"
   ]
  },
  {
   "cell_type": "code",
   "execution_count": 2,
   "metadata": {},
   "outputs": [
    {
     "name": "stdout",
     "output_type": "stream",
     "text": [
      "{\n",
      "    \"address\": \"3157 NE MARINE DR, Portland OR 97035\",\n",
      "    \"bathrooms\": 1.0,\n",
      "    \"bedrooms\": 1,\n",
      "    \"built\": 1964,\n",
      "    \"city\": \"Portland\",\n",
      "    \"county\": \"Multnomah\",\n",
      "    \"elementary_school\": \"Faubion\",\n",
      "    \"high_school\": \"Current Price:\",\n",
      "    \"home_type\": \"Floating Home - 1 Story\",\n",
      "    \"lot_size\": null,\n",
      "    \"middle_school\": \"Jefferson\",\n",
      "    \"neighborhood\": \"unknown\",\n",
      "    \"price\": 65000,\n",
      "    \"square_feet\": 800,\n",
      "    \"zipcode\": 97035\n",
      "}\n"
     ]
    }
   ],
   "source": [
    "# Fetch the data from the API.\n",
    "listings_json = requests.get(\"http://127.0.0.1:5000/housingDataAPI/v1.0/listings\").json()\n",
    "\n",
    "# Examine the data.\n",
    "print(json.dumps(listings_json[0], indent=4, sort_keys=True))"
   ]
  },
  {
   "cell_type": "code",
   "execution_count": 3,
   "metadata": {},
   "outputs": [
    {
     "name": "stdout",
     "output_type": "stream",
     "text": [
      "2246\n"
     ]
    },
    {
     "data": {
      "text/html": [
       "<div>\n",
       "<style scoped>\n",
       "    .dataframe tbody tr th:only-of-type {\n",
       "        vertical-align: middle;\n",
       "    }\n",
       "\n",
       "    .dataframe tbody tr th {\n",
       "        vertical-align: top;\n",
       "    }\n",
       "\n",
       "    .dataframe thead th {\n",
       "        text-align: right;\n",
       "    }\n",
       "</style>\n",
       "<table border=\"1\" class=\"dataframe\">\n",
       "  <thead>\n",
       "    <tr style=\"text-align: right;\">\n",
       "      <th></th>\n",
       "      <th>address</th>\n",
       "      <th>bathrooms</th>\n",
       "      <th>bedrooms</th>\n",
       "      <th>built</th>\n",
       "      <th>city</th>\n",
       "      <th>county</th>\n",
       "      <th>elementary_school</th>\n",
       "      <th>high_school</th>\n",
       "      <th>home_type</th>\n",
       "      <th>lot_size</th>\n",
       "      <th>middle_school</th>\n",
       "      <th>neighborhood</th>\n",
       "      <th>price</th>\n",
       "      <th>square_feet</th>\n",
       "      <th>zipcode</th>\n",
       "    </tr>\n",
       "  </thead>\n",
       "  <tbody>\n",
       "    <tr>\n",
       "      <th>0</th>\n",
       "      <td>3157 NE MARINE DR, Portland OR 97035</td>\n",
       "      <td>1.0</td>\n",
       "      <td>1</td>\n",
       "      <td>1964</td>\n",
       "      <td>Portland</td>\n",
       "      <td>Multnomah</td>\n",
       "      <td>Faubion</td>\n",
       "      <td>Current Price:</td>\n",
       "      <td>Floating Home - 1 Story</td>\n",
       "      <td>NaN</td>\n",
       "      <td>Jefferson</td>\n",
       "      <td>unknown</td>\n",
       "      <td>65000</td>\n",
       "      <td>800</td>\n",
       "      <td>97035</td>\n",
       "    </tr>\n",
       "    <tr>\n",
       "      <th>1</th>\n",
       "      <td>17452 NE GLISAN ST #7, Portland OR 97230</td>\n",
       "      <td>2.0</td>\n",
       "      <td>2</td>\n",
       "      <td>1988</td>\n",
       "      <td>Portland</td>\n",
       "      <td>Multnomah</td>\n",
       "      <td>Hartley</td>\n",
       "      <td>Reynolds</td>\n",
       "      <td>Manufactured - Double Wide Manufact</td>\n",
       "      <td>NaN</td>\n",
       "      <td>Reynolds</td>\n",
       "      <td>unknown</td>\n",
       "      <td>72000</td>\n",
       "      <td>1152</td>\n",
       "      <td>97230</td>\n",
       "    </tr>\n",
       "    <tr>\n",
       "      <th>2</th>\n",
       "      <td>9034 SE 78TH PL, Portland OR 97206</td>\n",
       "      <td>2.0</td>\n",
       "      <td>3</td>\n",
       "      <td>1997</td>\n",
       "      <td>Portland</td>\n",
       "      <td>Clackamas</td>\n",
       "      <td>Whitman</td>\n",
       "      <td>Current Price:</td>\n",
       "      <td>Manufactured - Double Wide Manufact</td>\n",
       "      <td>NaN</td>\n",
       "      <td>Milwaukie</td>\n",
       "      <td>unknown</td>\n",
       "      <td>79950</td>\n",
       "      <td>1344</td>\n",
       "      <td>97206</td>\n",
       "    </tr>\n",
       "    <tr>\n",
       "      <th>3</th>\n",
       "      <td>16000 SE POWELL BLVD 75, Portland OR 97236</td>\n",
       "      <td>2.0</td>\n",
       "      <td>3</td>\n",
       "      <td>1990</td>\n",
       "      <td>Portland</td>\n",
       "      <td>Multnomah</td>\n",
       "      <td>Powell Butte</td>\n",
       "      <td>Centennial</td>\n",
       "      <td>Manufactured - Double Wide Manufact</td>\n",
       "      <td>NaN</td>\n",
       "      <td>Centennial</td>\n",
       "      <td>unknown</td>\n",
       "      <td>79950</td>\n",
       "      <td>1404</td>\n",
       "      <td>97236</td>\n",
       "    </tr>\n",
       "    <tr>\n",
       "      <th>4</th>\n",
       "      <td>12846 SE RAMONA ST 6, Portland OR 97236</td>\n",
       "      <td>2.0</td>\n",
       "      <td>3</td>\n",
       "      <td>1997</td>\n",
       "      <td>Portland</td>\n",
       "      <td>Multnomah</td>\n",
       "      <td>Gilbert Hts</td>\n",
       "      <td>David Douglas</td>\n",
       "      <td>Manufactured - Double Wide Manufact</td>\n",
       "      <td>NaN</td>\n",
       "      <td>Alice Ott</td>\n",
       "      <td>unknown</td>\n",
       "      <td>93900</td>\n",
       "      <td>1297</td>\n",
       "      <td>97236</td>\n",
       "    </tr>\n",
       "  </tbody>\n",
       "</table>\n",
       "</div>"
      ],
      "text/plain": [
       "                                      address  bathrooms  bedrooms  built  \\\n",
       "0        3157 NE MARINE DR, Portland OR 97035        1.0         1   1964   \n",
       "1    17452 NE GLISAN ST #7, Portland OR 97230        2.0         2   1988   \n",
       "2          9034 SE 78TH PL, Portland OR 97206        2.0         3   1997   \n",
       "3  16000 SE POWELL BLVD 75, Portland OR 97236        2.0         3   1990   \n",
       "4     12846 SE RAMONA ST 6, Portland OR 97236        2.0         3   1997   \n",
       "\n",
       "       city     county elementary_school     high_school  \\\n",
       "0  Portland  Multnomah           Faubion  Current Price:   \n",
       "1  Portland  Multnomah           Hartley        Reynolds   \n",
       "2  Portland  Clackamas           Whitman  Current Price:   \n",
       "3  Portland  Multnomah      Powell Butte      Centennial   \n",
       "4  Portland  Multnomah       Gilbert Hts   David Douglas   \n",
       "\n",
       "                             home_type  lot_size middle_school neighborhood  \\\n",
       "0              Floating Home - 1 Story       NaN     Jefferson      unknown   \n",
       "1  Manufactured - Double Wide Manufact       NaN      Reynolds      unknown   \n",
       "2  Manufactured - Double Wide Manufact       NaN     Milwaukie      unknown   \n",
       "3  Manufactured - Double Wide Manufact       NaN    Centennial      unknown   \n",
       "4  Manufactured - Double Wide Manufact       NaN     Alice Ott      unknown   \n",
       "\n",
       "   price  square_feet  zipcode  \n",
       "0  65000          800    97035  \n",
       "1  72000         1152    97230  \n",
       "2  79950         1344    97206  \n",
       "3  79950         1404    97236  \n",
       "4  93900         1297    97236  "
      ]
     },
     "execution_count": 3,
     "metadata": {},
     "output_type": "execute_result"
    }
   ],
   "source": [
    "# Create a dataframe to use for our model.\n",
    "housing_data = pd.DataFrame(listings_json)\n",
    "\n",
    "print(len(housing_data))\n",
    "housing_data.head()"
   ]
  },
  {
   "cell_type": "markdown",
   "metadata": {},
   "source": [
    "# Data Cleaning"
   ]
  },
  {
   "cell_type": "code",
   "execution_count": 4,
   "metadata": {},
   "outputs": [
    {
     "data": {
      "text/plain": [
       "array(['Floating', 'Manufactured', 'Condo', 'Single Family'], dtype=object)"
      ]
     },
     "execution_count": 4,
     "metadata": {},
     "output_type": "execute_result"
    }
   ],
   "source": [
    "# Simplify home types \n",
    "for i in housing_data.index:\n",
    "    if \"Floating\" in housing_data.at[i, \"home_type\"]:\n",
    "        housing_data.at[i, \"home_type\"] = \"Floating\"\n",
    "    if \"Condo\" in housing_data.at[i, \"home_type\"]:\n",
    "        housing_data.at[i, \"home_type\"] = \"Condo\"\n",
    "    if \"Single Family\" in housing_data.at[i, \"home_type\"]:\n",
    "        housing_data.at[i, \"home_type\"] = \"Single Family\"\n",
    "    if \"Manufactured\" in housing_data.at[i, \"home_type\"]:\n",
    "        housing_data.at[i, \"home_type\"] = \"Manufactured\"\n",
    "    \n",
    "housing_data.home_type.unique() "
   ]
  },
  {
   "cell_type": "code",
   "execution_count": 5,
   "metadata": {},
   "outputs": [
    {
     "name": "stdout",
     "output_type": "stream",
     "text": [
      "Current Amount of Listings: 2246\n",
      "Updated Amount of Listings: 2133\n"
     ]
    }
   ],
   "source": [
    "# Print data to compare how many data points lost\n",
    "print(f'Current Amount of Listings: {len(housing_data)}')\n",
    "\n",
    "# Change lot size to 0 for floating homes and condos\n",
    "for i in housing_data.index:\n",
    "    if housing_data.at[i, \"home_type\"] == \"Floating\":\n",
    "        housing_data.at[i, \"lot_size\"] = 0\n",
    "    if housing_data.at[i, \"home_type\"] == \"Condo\":\n",
    "        housing_data.at[i, \"lot_size\"] = 0\n",
    "\n",
    "# Drop listing with null lot_size\n",
    "cleaned_housing_data = housing_data.drop(housing_data[housing_data[\"lot_size\"].isnull()].index)\n",
    "      \n",
    "# Print length of data\n",
    "print(f'Updated Amount of Listings: {len(cleaned_housing_data)}')"
   ]
  },
  {
   "cell_type": "code",
   "execution_count": 6,
   "metadata": {},
   "outputs": [
    {
     "data": {
      "text/plain": [
       "(2121, 15)"
      ]
     },
     "execution_count": 6,
     "metadata": {},
     "output_type": "execute_result"
    }
   ],
   "source": [
    "# Drop listings with unclear Highschool data\n",
    "cleaned_housing_data.drop(cleaned_housing_data[cleaned_housing_data.high_school == \"Current Price:\"].index, inplace = True)\n",
    "cleaned_housing_data.drop(cleaned_housing_data[cleaned_housing_data.high_school == \"Other\"].index, inplace = True)\n",
    "cleaned_housing_data.shape"
   ]
  },
  {
   "cell_type": "code",
   "execution_count": 7,
   "metadata": {},
   "outputs": [
    {
     "data": {
      "text/html": [
       "<div>\n",
       "<style scoped>\n",
       "    .dataframe tbody tr th:only-of-type {\n",
       "        vertical-align: middle;\n",
       "    }\n",
       "\n",
       "    .dataframe tbody tr th {\n",
       "        vertical-align: top;\n",
       "    }\n",
       "\n",
       "    .dataframe thead th {\n",
       "        text-align: right;\n",
       "    }\n",
       "</style>\n",
       "<table border=\"1\" class=\"dataframe\">\n",
       "  <thead>\n",
       "    <tr style=\"text-align: right;\">\n",
       "      <th></th>\n",
       "      <th>address</th>\n",
       "      <th>bathrooms</th>\n",
       "      <th>bedrooms</th>\n",
       "      <th>built</th>\n",
       "      <th>city</th>\n",
       "      <th>county</th>\n",
       "      <th>elementary_school</th>\n",
       "      <th>high_school</th>\n",
       "      <th>home_type</th>\n",
       "      <th>lot_size</th>\n",
       "      <th>middle_school</th>\n",
       "      <th>neighborhood</th>\n",
       "      <th>price</th>\n",
       "      <th>square_feet</th>\n",
       "      <th>zipcode</th>\n",
       "      <th>zipcode_rank</th>\n",
       "      <th>zipcodeAVGcost</th>\n",
       "    </tr>\n",
       "  </thead>\n",
       "  <tbody>\n",
       "    <tr>\n",
       "      <th>0</th>\n",
       "      <td>19609 NE Marine DR E-4, Portland OR 97230</td>\n",
       "      <td>1.0</td>\n",
       "      <td>1</td>\n",
       "      <td>1960</td>\n",
       "      <td>Portland</td>\n",
       "      <td>Multnomah</td>\n",
       "      <td>Salish Pond</td>\n",
       "      <td>Reynolds</td>\n",
       "      <td>Floating</td>\n",
       "      <td>0.0</td>\n",
       "      <td>Reynolds</td>\n",
       "      <td>unknown</td>\n",
       "      <td>129500</td>\n",
       "      <td>735</td>\n",
       "      <td>97230</td>\n",
       "      <td>29</td>\n",
       "      <td>412757.415584</td>\n",
       "    </tr>\n",
       "    <tr>\n",
       "      <th>1</th>\n",
       "      <td>3389 NE 162ND AVE, Portland OR 97230</td>\n",
       "      <td>2.0</td>\n",
       "      <td>2</td>\n",
       "      <td>1979</td>\n",
       "      <td>Portland</td>\n",
       "      <td>Multnomah</td>\n",
       "      <td>Margaret Scott</td>\n",
       "      <td>Reynolds</td>\n",
       "      <td>Condo</td>\n",
       "      <td>0.0</td>\n",
       "      <td>H.B. Lee</td>\n",
       "      <td>Fremont Village Park</td>\n",
       "      <td>160000</td>\n",
       "      <td>1073</td>\n",
       "      <td>97230</td>\n",
       "      <td>29</td>\n",
       "      <td>412757.415584</td>\n",
       "    </tr>\n",
       "    <tr>\n",
       "      <th>2</th>\n",
       "      <td>19609 NE MARINE DR E1, Portland OR 97230</td>\n",
       "      <td>2.0</td>\n",
       "      <td>3</td>\n",
       "      <td>1945</td>\n",
       "      <td>Portland</td>\n",
       "      <td>Multnomah</td>\n",
       "      <td>Salish Pond</td>\n",
       "      <td>Reynolds</td>\n",
       "      <td>Floating</td>\n",
       "      <td>0.0</td>\n",
       "      <td>Reynolds</td>\n",
       "      <td>Big Eddy Marina</td>\n",
       "      <td>224500</td>\n",
       "      <td>1150</td>\n",
       "      <td>97230</td>\n",
       "      <td>29</td>\n",
       "      <td>412757.415584</td>\n",
       "    </tr>\n",
       "    <tr>\n",
       "      <th>3</th>\n",
       "      <td>15041 NE SISKIYOU CT, Portland OR 97230</td>\n",
       "      <td>2.0</td>\n",
       "      <td>2</td>\n",
       "      <td>1973</td>\n",
       "      <td>Portland</td>\n",
       "      <td>Multnomah</td>\n",
       "      <td>Scott</td>\n",
       "      <td>Reynolds</td>\n",
       "      <td>Condo</td>\n",
       "      <td>0.0</td>\n",
       "      <td>H.B. Lee</td>\n",
       "      <td>unknown</td>\n",
       "      <td>229900</td>\n",
       "      <td>1638</td>\n",
       "      <td>97230</td>\n",
       "      <td>29</td>\n",
       "      <td>412757.415584</td>\n",
       "    </tr>\n",
       "    <tr>\n",
       "      <th>4</th>\n",
       "      <td>15025 NE SACRAMENTO ST 56, Portland OR 97230</td>\n",
       "      <td>2.0</td>\n",
       "      <td>2</td>\n",
       "      <td>1986</td>\n",
       "      <td>Portland</td>\n",
       "      <td>Multnomah</td>\n",
       "      <td>Margaret Scott</td>\n",
       "      <td>Reynolds</td>\n",
       "      <td>Condo</td>\n",
       "      <td>0.0</td>\n",
       "      <td>H.B. Lee</td>\n",
       "      <td>SUMMERPLACE</td>\n",
       "      <td>239000</td>\n",
       "      <td>1128</td>\n",
       "      <td>97230</td>\n",
       "      <td>29</td>\n",
       "      <td>412757.415584</td>\n",
       "    </tr>\n",
       "  </tbody>\n",
       "</table>\n",
       "</div>"
      ],
      "text/plain": [
       "                                        address  bathrooms  bedrooms  built  \\\n",
       "0     19609 NE Marine DR E-4, Portland OR 97230        1.0         1   1960   \n",
       "1          3389 NE 162ND AVE, Portland OR 97230        2.0         2   1979   \n",
       "2      19609 NE MARINE DR E1, Portland OR 97230        2.0         3   1945   \n",
       "3       15041 NE SISKIYOU CT, Portland OR 97230        2.0         2   1973   \n",
       "4  15025 NE SACRAMENTO ST 56, Portland OR 97230        2.0         2   1986   \n",
       "\n",
       "       city     county elementary_school high_school home_type  lot_size  \\\n",
       "0  Portland  Multnomah       Salish Pond    Reynolds  Floating       0.0   \n",
       "1  Portland  Multnomah    Margaret Scott    Reynolds     Condo       0.0   \n",
       "2  Portland  Multnomah       Salish Pond    Reynolds  Floating       0.0   \n",
       "3  Portland  Multnomah             Scott    Reynolds     Condo       0.0   \n",
       "4  Portland  Multnomah    Margaret Scott    Reynolds     Condo       0.0   \n",
       "\n",
       "  middle_school          neighborhood   price  square_feet  zipcode  \\\n",
       "0      Reynolds               unknown  129500          735    97230   \n",
       "1      H.B. Lee  Fremont Village Park  160000         1073    97230   \n",
       "2      Reynolds       Big Eddy Marina  224500         1150    97230   \n",
       "3      H.B. Lee               unknown  229900         1638    97230   \n",
       "4      H.B. Lee           SUMMERPLACE  239000         1128    97230   \n",
       "\n",
       "   zipcode_rank  zipcodeAVGcost  \n",
       "0            29   412757.415584  \n",
       "1            29   412757.415584  \n",
       "2            29   412757.415584  \n",
       "3            29   412757.415584  \n",
       "4            29   412757.415584  "
      ]
     },
     "execution_count": 7,
     "metadata": {},
     "output_type": "execute_result"
    }
   ],
   "source": [
    "# Create a cost ranker based on zipcode\n",
    "zipcode = cleaned_housing_data[[\"price\",\"zipcode\"]]\n",
    "zipcodeAVG = zipcode.groupby([\"zipcode\"]).mean().sort_values(by=[\"price\"], ascending=False)\n",
    "zipcodeRanker = zipcodeAVG.reset_index(drop=False)\n",
    "zipcodeRanker.reset_index(drop=False, inplace=True)\n",
    "zipcodeRanker.rename(columns={\"index\":\"zipcode_rank\",\"price\":\"zipcodeAVGcost\"}, inplace=True)\n",
    "zipcodeRanker[\"zipcode_rank\"]=zipcodeRanker[\"zipcode_rank\"]+1\n",
    "\n",
    "\n",
    "# Merge into df\n",
    "cleaned_housing_data2 = pd.merge(cleaned_housing_data, zipcodeRanker, on=\"zipcode\")\n",
    "cleaned_housing_data2.rename(columns={\"price_y\":\"zipcodeAVGcost\"}, inplace = True)\n",
    "cleaned_housing_data2.head()"
   ]
  },
  {
   "cell_type": "code",
   "execution_count": 8,
   "metadata": {},
   "outputs": [
    {
     "data": {
      "text/html": [
       "<div>\n",
       "<style scoped>\n",
       "    .dataframe tbody tr th:only-of-type {\n",
       "        vertical-align: middle;\n",
       "    }\n",
       "\n",
       "    .dataframe tbody tr th {\n",
       "        vertical-align: top;\n",
       "    }\n",
       "\n",
       "    .dataframe thead th {\n",
       "        text-align: right;\n",
       "    }\n",
       "</style>\n",
       "<table border=\"1\" class=\"dataframe\">\n",
       "  <thead>\n",
       "    <tr style=\"text-align: right;\">\n",
       "      <th></th>\n",
       "      <th>address</th>\n",
       "      <th>bathrooms</th>\n",
       "      <th>bedrooms</th>\n",
       "      <th>built</th>\n",
       "      <th>city</th>\n",
       "      <th>county</th>\n",
       "      <th>elementary_school</th>\n",
       "      <th>high_school</th>\n",
       "      <th>home_type</th>\n",
       "      <th>lot_size</th>\n",
       "      <th>middle_school</th>\n",
       "      <th>neighborhood</th>\n",
       "      <th>price</th>\n",
       "      <th>square_feet</th>\n",
       "      <th>zipcode</th>\n",
       "      <th>zipcode_rank</th>\n",
       "      <th>zipcodeAVGcost</th>\n",
       "      <th>district</th>\n",
       "    </tr>\n",
       "  </thead>\n",
       "  <tbody>\n",
       "    <tr>\n",
       "      <th>0</th>\n",
       "      <td>19609 NE Marine DR E-4, Portland OR 97230</td>\n",
       "      <td>1.0</td>\n",
       "      <td>1</td>\n",
       "      <td>1960</td>\n",
       "      <td>Portland</td>\n",
       "      <td>Multnomah</td>\n",
       "      <td>Salish Pond</td>\n",
       "      <td>Reynolds</td>\n",
       "      <td>Floating</td>\n",
       "      <td>0.0</td>\n",
       "      <td>Reynolds</td>\n",
       "      <td>unknown</td>\n",
       "      <td>129500</td>\n",
       "      <td>735</td>\n",
       "      <td>97230</td>\n",
       "      <td>29</td>\n",
       "      <td>412757.415584</td>\n",
       "      <td>Reynolds</td>\n",
       "    </tr>\n",
       "    <tr>\n",
       "      <th>1</th>\n",
       "      <td>3389 NE 162ND AVE, Portland OR 97230</td>\n",
       "      <td>2.0</td>\n",
       "      <td>2</td>\n",
       "      <td>1979</td>\n",
       "      <td>Portland</td>\n",
       "      <td>Multnomah</td>\n",
       "      <td>Margaret Scott</td>\n",
       "      <td>Reynolds</td>\n",
       "      <td>Condo</td>\n",
       "      <td>0.0</td>\n",
       "      <td>H.B. Lee</td>\n",
       "      <td>Fremont Village Park</td>\n",
       "      <td>160000</td>\n",
       "      <td>1073</td>\n",
       "      <td>97230</td>\n",
       "      <td>29</td>\n",
       "      <td>412757.415584</td>\n",
       "      <td>Reynolds</td>\n",
       "    </tr>\n",
       "    <tr>\n",
       "      <th>2</th>\n",
       "      <td>19609 NE MARINE DR E1, Portland OR 97230</td>\n",
       "      <td>2.0</td>\n",
       "      <td>3</td>\n",
       "      <td>1945</td>\n",
       "      <td>Portland</td>\n",
       "      <td>Multnomah</td>\n",
       "      <td>Salish Pond</td>\n",
       "      <td>Reynolds</td>\n",
       "      <td>Floating</td>\n",
       "      <td>0.0</td>\n",
       "      <td>Reynolds</td>\n",
       "      <td>Big Eddy Marina</td>\n",
       "      <td>224500</td>\n",
       "      <td>1150</td>\n",
       "      <td>97230</td>\n",
       "      <td>29</td>\n",
       "      <td>412757.415584</td>\n",
       "      <td>Reynolds</td>\n",
       "    </tr>\n",
       "    <tr>\n",
       "      <th>3</th>\n",
       "      <td>15041 NE SISKIYOU CT, Portland OR 97230</td>\n",
       "      <td>2.0</td>\n",
       "      <td>2</td>\n",
       "      <td>1973</td>\n",
       "      <td>Portland</td>\n",
       "      <td>Multnomah</td>\n",
       "      <td>Scott</td>\n",
       "      <td>Reynolds</td>\n",
       "      <td>Condo</td>\n",
       "      <td>0.0</td>\n",
       "      <td>H.B. Lee</td>\n",
       "      <td>unknown</td>\n",
       "      <td>229900</td>\n",
       "      <td>1638</td>\n",
       "      <td>97230</td>\n",
       "      <td>29</td>\n",
       "      <td>412757.415584</td>\n",
       "      <td>Reynolds</td>\n",
       "    </tr>\n",
       "    <tr>\n",
       "      <th>4</th>\n",
       "      <td>15025 NE SACRAMENTO ST 56, Portland OR 97230</td>\n",
       "      <td>2.0</td>\n",
       "      <td>2</td>\n",
       "      <td>1986</td>\n",
       "      <td>Portland</td>\n",
       "      <td>Multnomah</td>\n",
       "      <td>Margaret Scott</td>\n",
       "      <td>Reynolds</td>\n",
       "      <td>Condo</td>\n",
       "      <td>0.0</td>\n",
       "      <td>H.B. Lee</td>\n",
       "      <td>SUMMERPLACE</td>\n",
       "      <td>239000</td>\n",
       "      <td>1128</td>\n",
       "      <td>97230</td>\n",
       "      <td>29</td>\n",
       "      <td>412757.415584</td>\n",
       "      <td>Reynolds</td>\n",
       "    </tr>\n",
       "  </tbody>\n",
       "</table>\n",
       "</div>"
      ],
      "text/plain": [
       "                                        address  bathrooms  bedrooms  built  \\\n",
       "0     19609 NE Marine DR E-4, Portland OR 97230        1.0         1   1960   \n",
       "1          3389 NE 162ND AVE, Portland OR 97230        2.0         2   1979   \n",
       "2      19609 NE MARINE DR E1, Portland OR 97230        2.0         3   1945   \n",
       "3       15041 NE SISKIYOU CT, Portland OR 97230        2.0         2   1973   \n",
       "4  15025 NE SACRAMENTO ST 56, Portland OR 97230        2.0         2   1986   \n",
       "\n",
       "       city     county elementary_school high_school home_type  lot_size  \\\n",
       "0  Portland  Multnomah       Salish Pond    Reynolds  Floating       0.0   \n",
       "1  Portland  Multnomah    Margaret Scott    Reynolds     Condo       0.0   \n",
       "2  Portland  Multnomah       Salish Pond    Reynolds  Floating       0.0   \n",
       "3  Portland  Multnomah             Scott    Reynolds     Condo       0.0   \n",
       "4  Portland  Multnomah    Margaret Scott    Reynolds     Condo       0.0   \n",
       "\n",
       "  middle_school          neighborhood   price  square_feet  zipcode  \\\n",
       "0      Reynolds               unknown  129500          735    97230   \n",
       "1      H.B. Lee  Fremont Village Park  160000         1073    97230   \n",
       "2      Reynolds       Big Eddy Marina  224500         1150    97230   \n",
       "3      H.B. Lee               unknown  229900         1638    97230   \n",
       "4      H.B. Lee           SUMMERPLACE  239000         1128    97230   \n",
       "\n",
       "   zipcode_rank  zipcodeAVGcost  district  \n",
       "0            29   412757.415584  Reynolds  \n",
       "1            29   412757.415584  Reynolds  \n",
       "2            29   412757.415584  Reynolds  \n",
       "3            29   412757.415584  Reynolds  \n",
       "4            29   412757.415584  Reynolds  "
      ]
     },
     "execution_count": 8,
     "metadata": {},
     "output_type": "execute_result"
    }
   ],
   "source": [
    "# Create district df\n",
    "school_dict = ({\"high_school\" : ['Reynolds', 'Parkrose', 'David Douglas', 'Centennial', 'Cleveland',\n",
    "        'Lincoln', 'Madison', 'Jefferson', 'Roosevelt', 'Sunset','Westview', 'Liberty', 'Beaverton', \n",
    "        'Grant', 'Southridge', 'Tigard', 'Wilson', 'Riverdale', 'Lake Oswego', 'Franklin',\n",
    "        'Tualatin', 'Milwaukie', 'Scappoose'], \"district\" : ['Reynolds', 'Parkrose','David Douglas',\n",
    "        'Centennial', 'Portland Public', 'Portland Public', 'Portland Public', 'Portland Public',\n",
    "        'Portland Public', 'Beaverton', 'Beaverton', 'Hillsboro', 'Beaverton', 'Portland Public',\n",
    "        'Beaverton', 'Tigard-Tualatin', 'Portland Public', 'Riverdale', 'Lake Oswego', 'Portland Public',\n",
    "        'Tigard-Tualatin', 'North Clackamas', 'Scappose']})\n",
    "district_df = pd.DataFrame (school_dict)\n",
    "\n",
    "# Merge into OG df\n",
    "cleaned_housing_data3 = pd.merge(cleaned_housing_data2, district_df, on=\"high_school\")\n",
    "cleaned_housing_data3.head()"
   ]
  },
  {
   "cell_type": "code",
   "execution_count": 9,
   "metadata": {},
   "outputs": [],
   "source": [
    "# Create a cost ranker based on high schools\n",
    "hs = cleaned_housing_data3[[\"price\",\"high_school\"]]\n",
    "hsAVG = hs.groupby([\"high_school\"]).mean().sort_values(by=[\"price\"], ascending=False)\n",
    "hsRanker = hsAVG.reset_index(drop=False)\n",
    "hsRanker.reset_index(drop=False, inplace=True)\n",
    "hsRanker.rename(columns={\"index\":\"hs_rank\",\"price\":\"hsAVGcost\"}, inplace=True)\n",
    "hsRanker[\"hs_rank\"]= hsRanker[\"hs_rank\"]+1\n",
    "\n",
    "# Create a cost ranker based on districts\n",
    "district = cleaned_housing_data3[[\"price\",\"district\"]]\n",
    "districtAVG = district.groupby([\"district\"]).mean().sort_values(by=[\"price\"], ascending=False)\n",
    "districtRanker = districtAVG.reset_index(drop=False)\n",
    "districtRanker.reset_index(drop=False, inplace=True)\n",
    "districtRanker.rename(columns={\"index\":\"district_rank\",\"price\":\"districtAVGcost\"}, inplace=True)\n",
    "districtRanker[\"district_rank\"]= districtRanker[\"district_rank\"]+1"
   ]
  },
  {
   "cell_type": "code",
   "execution_count": 10,
   "metadata": {},
   "outputs": [
    {
     "name": "stderr",
     "output_type": "stream",
     "text": [
      "/opt/anaconda3/envs/PythonData/lib/python3.7/site-packages/ipykernel_launcher.py:11: SettingWithCopyWarning: \n",
      "A value is trying to be set on a copy of a slice from a DataFrame.\n",
      "Try using .loc[row_indexer,col_indexer] = value instead\n",
      "\n",
      "See the caveats in the documentation: http://pandas.pydata.org/pandas-docs/stable/user_guide/indexing.html#returning-a-view-versus-a-copy\n",
      "  # This is added back by InteractiveShellApp.init_path()\n"
     ]
    },
    {
     "data": {
      "text/plain": [
       "address               object\n",
       "price                  int64\n",
       "home_type             object\n",
       "bedrooms               int64\n",
       "bathrooms            float64\n",
       "square_feet            int64\n",
       "built                  int64\n",
       "lot_size             float64\n",
       "neighborhood          object\n",
       "county                object\n",
       "city                  object\n",
       "zipcode                int64\n",
       "zipcode_rank           int64\n",
       "zipcodeAVGcost       float64\n",
       "elementary_school     object\n",
       "middle_school         object\n",
       "high_school           object\n",
       "hs_rank                int64\n",
       "hsAVGcost            float64\n",
       "district              object\n",
       "district_rank          int64\n",
       "districtAVGcost      float64\n",
       "house_age              int64\n",
       "dtype: object"
      ]
     },
     "execution_count": 10,
     "metadata": {},
     "output_type": "execute_result"
    }
   ],
   "source": [
    "# Merge high school and district rankers \n",
    "cleaned_housing_data4 = pd.merge(cleaned_housing_data3, hsRanker, on=\"high_school\")\n",
    "cleaned_housing_data_5 = pd.merge(cleaned_housing_data4, districtRanker, on=\"district\")\n",
    "cleaned_housing_data_final = cleaned_housing_data_5[['address', 'price', 'home_type', 'bedrooms', \n",
    "                                'bathrooms', 'square_feet', 'built', 'lot_size', 'neighborhood', \n",
    "                                'county', 'city', 'zipcode', 'zipcode_rank', 'zipcodeAVGcost',\n",
    "                                'elementary_school', 'middle_school', 'high_school','hs_rank', \n",
    "                                'hsAVGcost', 'district', 'district_rank', 'districtAVGcost']]\n",
    "\n",
    "# Add age of home column\n",
    "cleaned_housing_data_final[\"house_age\"] = 2020 - cleaned_housing_data_final[\"built\"]\n",
    "cleaned_housing_data_final.dtypes"
   ]
  },
  {
   "cell_type": "markdown",
   "metadata": {},
   "source": [
    "## Prepare Data for Model"
   ]
  },
  {
   "cell_type": "code",
   "execution_count": 11,
   "metadata": {},
   "outputs": [
    {
     "name": "stdout",
     "output_type": "stream",
     "text": [
      "2121\n"
     ]
    },
    {
     "data": {
      "text/html": [
       "<div>\n",
       "<style scoped>\n",
       "    .dataframe tbody tr th:only-of-type {\n",
       "        vertical-align: middle;\n",
       "    }\n",
       "\n",
       "    .dataframe tbody tr th {\n",
       "        vertical-align: top;\n",
       "    }\n",
       "\n",
       "    .dataframe thead th {\n",
       "        text-align: right;\n",
       "    }\n",
       "</style>\n",
       "<table border=\"1\" class=\"dataframe\">\n",
       "  <thead>\n",
       "    <tr style=\"text-align: right;\">\n",
       "      <th></th>\n",
       "      <th>bathrooms</th>\n",
       "      <th>bedrooms</th>\n",
       "      <th>house_age</th>\n",
       "      <th>lot_size</th>\n",
       "      <th>square_feet</th>\n",
       "      <th>districtAVGcost</th>\n",
       "      <th>zipcodeAVGcost</th>\n",
       "      <th>price</th>\n",
       "    </tr>\n",
       "  </thead>\n",
       "  <tbody>\n",
       "    <tr>\n",
       "      <th>0</th>\n",
       "      <td>1.0</td>\n",
       "      <td>1</td>\n",
       "      <td>60</td>\n",
       "      <td>0.0</td>\n",
       "      <td>735</td>\n",
       "      <td>396434.078125</td>\n",
       "      <td>412757.415584</td>\n",
       "      <td>129500</td>\n",
       "    </tr>\n",
       "    <tr>\n",
       "      <th>1</th>\n",
       "      <td>2.0</td>\n",
       "      <td>2</td>\n",
       "      <td>41</td>\n",
       "      <td>0.0</td>\n",
       "      <td>1073</td>\n",
       "      <td>396434.078125</td>\n",
       "      <td>412757.415584</td>\n",
       "      <td>160000</td>\n",
       "    </tr>\n",
       "    <tr>\n",
       "      <th>2</th>\n",
       "      <td>2.0</td>\n",
       "      <td>3</td>\n",
       "      <td>75</td>\n",
       "      <td>0.0</td>\n",
       "      <td>1150</td>\n",
       "      <td>396434.078125</td>\n",
       "      <td>412757.415584</td>\n",
       "      <td>224500</td>\n",
       "    </tr>\n",
       "    <tr>\n",
       "      <th>3</th>\n",
       "      <td>2.0</td>\n",
       "      <td>2</td>\n",
       "      <td>47</td>\n",
       "      <td>0.0</td>\n",
       "      <td>1638</td>\n",
       "      <td>396434.078125</td>\n",
       "      <td>412757.415584</td>\n",
       "      <td>229900</td>\n",
       "    </tr>\n",
       "    <tr>\n",
       "      <th>4</th>\n",
       "      <td>2.0</td>\n",
       "      <td>2</td>\n",
       "      <td>34</td>\n",
       "      <td>0.0</td>\n",
       "      <td>1128</td>\n",
       "      <td>396434.078125</td>\n",
       "      <td>412757.415584</td>\n",
       "      <td>239000</td>\n",
       "    </tr>\n",
       "  </tbody>\n",
       "</table>\n",
       "</div>"
      ],
      "text/plain": [
       "   bathrooms  bedrooms  house_age  lot_size  square_feet  districtAVGcost  \\\n",
       "0        1.0         1         60       0.0          735    396434.078125   \n",
       "1        2.0         2         41       0.0         1073    396434.078125   \n",
       "2        2.0         3         75       0.0         1150    396434.078125   \n",
       "3        2.0         2         47       0.0         1638    396434.078125   \n",
       "4        2.0         2         34       0.0         1128    396434.078125   \n",
       "\n",
       "   zipcodeAVGcost   price  \n",
       "0   412757.415584  129500  \n",
       "1   412757.415584  160000  \n",
       "2   412757.415584  224500  \n",
       "3   412757.415584  229900  \n",
       "4   412757.415584  239000  "
      ]
     },
     "execution_count": 11,
     "metadata": {},
     "output_type": "execute_result"
    }
   ],
   "source": [
    "# Make a copy of the original data frame to modify.\n",
    "model_df = cleaned_housing_data_final\n",
    "\n",
    "# Include only those columns that will be used in the deep learning model.\n",
    "model_df = model_df.loc[:, [\"bathrooms\",\n",
    "                            \"bedrooms\",\n",
    "#                             \"built\",\n",
    "                            \"house_age\",\n",
    "                            \"lot_size\",\n",
    "                            \"square_feet\",\n",
    "#                             \"neighborhood\",\n",
    "#                             \"county\",\n",
    "#                             \"home_type\",\n",
    "#                             \"hs_rank\",\n",
    "#                             \"hsAVGcost\",\n",
    "                            \"districtAVGcost\",\n",
    "#                             \"district_rank\",\n",
    "                            \"zipcodeAVGcost\",\n",
    "#                             \"zipcode_rank\",\n",
    "                            \"price\"]\n",
    "                       ]\n",
    "\n",
    "# Drop rows with NaN entries.\n",
    "model_df.dropna(inplace=True)\n",
    "\n",
    "# Check the model data.\n",
    "print(len(model_df))\n",
    "model_df.head()"
   ]
  },
  {
   "cell_type": "code",
   "execution_count": 12,
   "metadata": {},
   "outputs": [
    {
     "data": {
      "text/html": [
       "<div>\n",
       "<style scoped>\n",
       "    .dataframe tbody tr th:only-of-type {\n",
       "        vertical-align: middle;\n",
       "    }\n",
       "\n",
       "    .dataframe tbody tr th {\n",
       "        vertical-align: top;\n",
       "    }\n",
       "\n",
       "    .dataframe thead th {\n",
       "        text-align: right;\n",
       "    }\n",
       "</style>\n",
       "<table border=\"1\" class=\"dataframe\">\n",
       "  <thead>\n",
       "    <tr style=\"text-align: right;\">\n",
       "      <th></th>\n",
       "      <th>bathrooms</th>\n",
       "      <th>bedrooms</th>\n",
       "      <th>house_age</th>\n",
       "      <th>lot_size</th>\n",
       "      <th>square_feet</th>\n",
       "      <th>districtAVGcost</th>\n",
       "      <th>zipcodeAVGcost</th>\n",
       "      <th>price_range</th>\n",
       "    </tr>\n",
       "  </thead>\n",
       "  <tbody>\n",
       "    <tr>\n",
       "      <th>0</th>\n",
       "      <td>1.0</td>\n",
       "      <td>1</td>\n",
       "      <td>60</td>\n",
       "      <td>0.0</td>\n",
       "      <td>735</td>\n",
       "      <td>396434.078125</td>\n",
       "      <td>412757.415584</td>\n",
       "      <td>(123499.999, 349500.0]</td>\n",
       "    </tr>\n",
       "    <tr>\n",
       "      <th>1</th>\n",
       "      <td>2.0</td>\n",
       "      <td>2</td>\n",
       "      <td>41</td>\n",
       "      <td>0.0</td>\n",
       "      <td>1073</td>\n",
       "      <td>396434.078125</td>\n",
       "      <td>412757.415584</td>\n",
       "      <td>(123499.999, 349500.0]</td>\n",
       "    </tr>\n",
       "    <tr>\n",
       "      <th>2</th>\n",
       "      <td>2.0</td>\n",
       "      <td>3</td>\n",
       "      <td>75</td>\n",
       "      <td>0.0</td>\n",
       "      <td>1150</td>\n",
       "      <td>396434.078125</td>\n",
       "      <td>412757.415584</td>\n",
       "      <td>(123499.999, 349500.0]</td>\n",
       "    </tr>\n",
       "    <tr>\n",
       "      <th>3</th>\n",
       "      <td>2.0</td>\n",
       "      <td>2</td>\n",
       "      <td>47</td>\n",
       "      <td>0.0</td>\n",
       "      <td>1638</td>\n",
       "      <td>396434.078125</td>\n",
       "      <td>412757.415584</td>\n",
       "      <td>(123499.999, 349500.0]</td>\n",
       "    </tr>\n",
       "    <tr>\n",
       "      <th>4</th>\n",
       "      <td>2.0</td>\n",
       "      <td>2</td>\n",
       "      <td>34</td>\n",
       "      <td>0.0</td>\n",
       "      <td>1128</td>\n",
       "      <td>396434.078125</td>\n",
       "      <td>412757.415584</td>\n",
       "      <td>(123499.999, 349500.0]</td>\n",
       "    </tr>\n",
       "  </tbody>\n",
       "</table>\n",
       "</div>"
      ],
      "text/plain": [
       "   bathrooms  bedrooms  house_age  lot_size  square_feet  districtAVGcost  \\\n",
       "0        1.0         1         60       0.0          735    396434.078125   \n",
       "1        2.0         2         41       0.0         1073    396434.078125   \n",
       "2        2.0         3         75       0.0         1150    396434.078125   \n",
       "3        2.0         2         47       0.0         1638    396434.078125   \n",
       "4        2.0         2         34       0.0         1128    396434.078125   \n",
       "\n",
       "   zipcodeAVGcost             price_range  \n",
       "0   412757.415584  (123499.999, 349500.0]  \n",
       "1   412757.415584  (123499.999, 349500.0]  \n",
       "2   412757.415584  (123499.999, 349500.0]  \n",
       "3   412757.415584  (123499.999, 349500.0]  \n",
       "4   412757.415584  (123499.999, 349500.0]  "
      ]
     },
     "execution_count": 12,
     "metadata": {},
     "output_type": "execute_result"
    }
   ],
   "source": [
    "# Bin prices into ten equal length ranges.\n",
    "model_df[\"price_range\"] = pd.qcut(model_df[\"price\"], 5)\n",
    "# Drop the original price data.\n",
    "model_df.drop(\"price\", axis=1, inplace=True)\n",
    "model_df.head()"
   ]
  },
  {
   "cell_type": "code",
   "execution_count": 13,
   "metadata": {},
   "outputs": [],
   "source": [
    "# # Get dummies for the values in home_type to use in the model.\n",
    "# model_df = pd.get_dummies(model_df, columns=[\"home_type\"])\n",
    "# model_df.head()"
   ]
  },
  {
   "cell_type": "code",
   "execution_count": 14,
   "metadata": {},
   "outputs": [],
   "source": [
    "# Assign X (input) and y (target).\n",
    "X = model_df.drop(\"price_range\", axis=1)\n",
    "y = model_df[\"price_range\"]"
   ]
  },
  {
   "cell_type": "code",
   "execution_count": 15,
   "metadata": {},
   "outputs": [],
   "source": [
    "# Split the data into training and testing\n",
    "X_train, X_test, y_train, y_test = train_test_split(X, y, random_state=42)"
   ]
  },
  {
   "cell_type": "code",
   "execution_count": 16,
   "metadata": {},
   "outputs": [
    {
     "data": {
      "text/plain": [
       "['minmax_scaler.bin']"
      ]
     },
     "execution_count": 16,
     "metadata": {},
     "output_type": "execute_result"
    }
   ],
   "source": [
    "# Create a MinMaxScaler model and fit it to the training data\n",
    "X_scaler = MinMaxScaler().fit(X_train)\n",
    "\n",
    "# Save the scalar.\n",
    "dump(X_scaler, 'minmax_scaler.bin', compress=True)"
   ]
  },
  {
   "cell_type": "code",
   "execution_count": 17,
   "metadata": {},
   "outputs": [],
   "source": [
    "# Transform the training and testing data using the X_scaler and y_scaler models.\n",
    "X_train_scaled = X_scaler.transform(X_train)\n",
    "X_test_scaled = X_scaler.transform(X_test)"
   ]
  },
  {
   "cell_type": "code",
   "execution_count": 18,
   "metadata": {},
   "outputs": [
    {
     "name": "stdout",
     "output_type": "stream",
     "text": [
      "(123499.999, 349500.0]\n",
      "3\n"
     ]
    }
   ],
   "source": [
    "# Label encode the target data.\n",
    "label_encoder = LabelEncoder()\n",
    "label_encoder.fit(y_train)\n",
    "encoded_y_train = label_encoder.transform(y_train)\n",
    "encoded_y_test = label_encoder.transform(y_test)\n",
    "\n",
    "# Save the label encoder\n",
    "dump(label_encoder, 'label_encoder.bin', compress=True)\n",
    "print(y_train[0])\n",
    "print(encoded_y_train[0])"
   ]
  },
  {
   "cell_type": "code",
   "execution_count": 19,
   "metadata": {},
   "outputs": [
    {
     "data": {
      "text/plain": [
       "array([0., 0., 0., 1., 0.], dtype=float32)"
      ]
     },
     "execution_count": 19,
     "metadata": {},
     "output_type": "execute_result"
    }
   ],
   "source": [
    "# Convert encoded labels to one-hot encoding.\n",
    "y_train_categorical = to_categorical(encoded_y_train)\n",
    "y_test_categorical = to_categorical(encoded_y_test)\n",
    "y_train_categorical[0]"
   ]
  },
  {
   "cell_type": "markdown",
   "metadata": {},
   "source": [
    "## Run Random Forest Classifier"
   ]
  },
  {
   "cell_type": "code",
   "execution_count": 20,
   "metadata": {},
   "outputs": [
    {
     "name": "stdout",
     "output_type": "stream",
     "text": [
      "0.6214689265536724\n",
      "[(0.35870500270520184, 'square_feet'), (0.164864810120562, 'house_age'), (0.1593520710482703, 'zipcodeAVGcost'), (0.11286250903036155, 'lot_size'), (0.08620848515551649, 'bathrooms'), (0.07266149534034229, 'bedrooms'), (0.045345626599745566, 'districtAVGcost')]\n"
     ]
    }
   ],
   "source": [
    "# Create a random forest classifier, fit to the training data, and score on the testing data.\n",
    "rf = RandomForestClassifier(n_estimators=1000)\n",
    "rf = rf.fit(X_train_scaled, y_train_categorical)\n",
    "print(rf.score(X_test_scaled, y_test_categorical))\n",
    "\n",
    "# Find the importances of each feature.\n",
    "feature_names = X.columns\n",
    "importances = rf.feature_importances_\n",
    "print(sorted(zip(rf.feature_importances_, feature_names), reverse=True))"
   ]
  },
  {
   "cell_type": "markdown",
   "metadata": {},
   "source": [
    "## Create a Deep Learning Model"
   ]
  },
  {
   "cell_type": "code",
   "execution_count": 21,
   "metadata": {},
   "outputs": [],
   "source": [
    "# Create a deep learning Sequential model.\n",
    "deep_model = Sequential()\n",
    "deep_model.add(Dense(units=500, activation='relu', input_dim=7))\n",
    "deep_model.add(Dense(units=200, activation='relu'))\n",
    "deep_model.add(Dense(units=100, activation='relu'))\n",
    "deep_model.add(Dense(units=5, activation='softmax'))"
   ]
  },
  {
   "cell_type": "code",
   "execution_count": 32,
   "metadata": {
    "scrolled": true
   },
   "outputs": [
    {
     "name": "stdout",
     "output_type": "stream",
     "text": [
      "Train on 1590 samples\n",
      "Epoch 1/15\n",
      "1590/1590 - 1s - loss: 0.6413 - accuracy: 0.7189\n",
      "Epoch 2/15\n",
      "1590/1590 - 0s - loss: 0.5626 - accuracy: 0.7679\n",
      "Epoch 3/15\n",
      "1590/1590 - 0s - loss: 0.5696 - accuracy: 0.7566\n",
      "Epoch 4/15\n",
      "1590/1590 - 0s - loss: 0.5737 - accuracy: 0.7522\n",
      "Epoch 5/15\n",
      "1590/1590 - 0s - loss: 0.5736 - accuracy: 0.7585\n",
      "Epoch 6/15\n",
      "1590/1590 - 0s - loss: 0.5624 - accuracy: 0.7686\n",
      "Epoch 7/15\n",
      "1590/1590 - 0s - loss: 0.5706 - accuracy: 0.7679\n",
      "Epoch 8/15\n",
      "1590/1590 - 0s - loss: 0.5911 - accuracy: 0.7403\n",
      "Epoch 9/15\n",
      "1590/1590 - 0s - loss: 0.5715 - accuracy: 0.7604\n",
      "Epoch 10/15\n",
      "1590/1590 - 0s - loss: 0.5784 - accuracy: 0.7585\n",
      "Epoch 11/15\n",
      "1590/1590 - 0s - loss: 0.5605 - accuracy: 0.7616\n",
      "Epoch 12/15\n",
      "1590/1590 - 0s - loss: 0.5559 - accuracy: 0.7547\n",
      "Epoch 13/15\n",
      "1590/1590 - 0s - loss: 0.5632 - accuracy: 0.7654\n",
      "Epoch 14/15\n",
      "1590/1590 - 0s - loss: 0.5836 - accuracy: 0.7541\n",
      "Epoch 15/15\n",
      "1590/1590 - 0s - loss: 0.5623 - accuracy: 0.7553\n"
     ]
    },
    {
     "data": {
      "text/plain": [
       "<tensorflow.python.keras.callbacks.History at 0x1a4ada6cd0>"
      ]
     },
     "execution_count": 32,
     "metadata": {},
     "output_type": "execute_result"
    }
   ],
   "source": [
    "# Compile and fit the model.\n",
    "deep_model.compile(optimizer='adam', loss='categorical_crossentropy', metrics=['accuracy'])\n",
    "\n",
    "deep_model.fit(\n",
    "    X_train_scaled,\n",
    "    y_train_categorical,\n",
    "    epochs=190,\n",
    "    shuffle=True,\n",
    "    verbose=2\n",
    ")"
   ]
  },
  {
   "cell_type": "markdown",
   "metadata": {},
   "source": [
    "## Quantify our Trained Model"
   ]
  },
  {
   "cell_type": "code",
   "execution_count": 33,
   "metadata": {},
   "outputs": [
    {
     "name": "stdout",
     "output_type": "stream",
     "text": [
      "531/1 - 0s - loss: 1.0275 - accuracy: 0.7024\n",
      "Loss: 0.8390698329652546, Accuracy: 0.7024481892585754\n"
     ]
    }
   ],
   "source": [
    "model_loss, model_accuracy = deep_model.evaluate(X_test_scaled, y_test_categorical, verbose=2)\n",
    "print(f\"Loss: {model_loss}, Accuracy: {model_accuracy}\")"
   ]
  },
  {
   "cell_type": "markdown",
   "metadata": {
    "slideshow": {
     "slide_type": "subslide"
    }
   },
   "source": [
    "## Make Predictions"
   ]
  },
  {
   "cell_type": "code",
   "execution_count": 34,
   "metadata": {
    "nbgrader": {
     "grade": false,
     "grade_id": "cell-f97eb3e97245187b",
     "locked": false,
     "schema_version": 1,
     "solution": true
    },
    "slideshow": {
     "slide_type": "fragment"
    }
   },
   "outputs": [
    {
     "name": "stdout",
     "output_type": "stream",
     "text": [
      "Predicted classes: [Interval(809900.0, 4495000.0, closed='right')\n",
      " Interval(449000.0, 599900.0, closed='right')\n",
      " Interval(599900.0, 809900.0, closed='right')\n",
      " Interval(449000.0, 599900.0, closed='right')\n",
      " Interval(123499.999, 349500.0, closed='right')\n",
      " Interval(449000.0, 599900.0, closed='right')\n",
      " Interval(809900.0, 4495000.0, closed='right')\n",
      " Interval(449000.0, 599900.0, closed='right')\n",
      " Interval(599900.0, 809900.0, closed='right')\n",
      " Interval(809900.0, 4495000.0, closed='right')]\n",
      "Actual Labels: [Interval(809900.0, 4495000.0, closed='right'), Interval(449000.0, 599900.0, closed='right'), Interval(809900.0, 4495000.0, closed='right'), Interval(449000.0, 599900.0, closed='right'), Interval(123499.999, 349500.0, closed='right'), Interval(599900.0, 809900.0, closed='right'), Interval(809900.0, 4495000.0, closed='right'), Interval(599900.0, 809900.0, closed='right'), Interval(599900.0, 809900.0, closed='right'), Interval(809900.0, 4495000.0, closed='right')]\n"
     ]
    }
   ],
   "source": [
    "# Use the first 10 test data values to make a prediction and compare it to the actual labels.\n",
    "encoded_predictions = deep_model.predict_classes(X_test_scaled[:10])\n",
    "prediction_labels = label_encoder.inverse_transform(encoded_predictions)\n",
    "\n",
    "print(f\"Predicted classes: {prediction_labels}\")\n",
    "print(f\"Actual Labels: {list(y_test[:10])}\")"
   ]
  },
  {
   "cell_type": "markdown",
   "metadata": {},
   "source": [
    "## Save the trained model"
   ]
  },
  {
   "cell_type": "code",
   "execution_count": 35,
   "metadata": {},
   "outputs": [],
   "source": [
    "# Save the model\n",
    "deep_model.save(\"housing_model_trained.h5\")"
   ]
  },
  {
   "cell_type": "markdown",
   "metadata": {},
   "source": [
    "## Test the saved model, scaler, and label encoder"
   ]
  },
  {
   "cell_type": "code",
   "execution_count": 36,
   "metadata": {},
   "outputs": [],
   "source": [
    "# Load the model, scaler and label encoder.\n",
    "model = load_model(\"housing_model_trained.h5\")\n",
    "scaler = load(\"minmax_scaler.bin\")\n",
    "label_encoder = load(\"label_encoder.bin\")"
   ]
  },
  {
   "cell_type": "code",
   "execution_count": 37,
   "metadata": {},
   "outputs": [],
   "source": [
    "# Input data for testing.\n",
    "input_data = np.array(np.array([X.iloc[0]]))"
   ]
  },
  {
   "cell_type": "code",
   "execution_count": 38,
   "metadata": {},
   "outputs": [
    {
     "data": {
      "text/plain": [
       "bathrooms               1.000000\n",
       "bedrooms                1.000000\n",
       "house_age              60.000000\n",
       "lot_size                0.000000\n",
       "square_feet           735.000000\n",
       "districtAVGcost    396434.078125\n",
       "zipcodeAVGcost     412757.415584\n",
       "Name: 0, dtype: float64"
      ]
     },
     "execution_count": 38,
     "metadata": {},
     "output_type": "execute_result"
    }
   ],
   "source": [
    "X.iloc[0]"
   ]
  },
  {
   "cell_type": "code",
   "execution_count": 39,
   "metadata": {},
   "outputs": [
    {
     "name": "stdout",
     "output_type": "stream",
     "text": [
      "123499.999, 349500.0\n"
     ]
    }
   ],
   "source": [
    "encoded_predictions = model.predict_classes(scaler.transform(input_data))\n",
    "prediction_labels = label_encoder.inverse_transform(encoded_predictions)\n",
    "\n",
    "print(f\"{prediction_labels[0].left}, {prediction_labels[0].right}\")"
   ]
  },
  {
   "cell_type": "code",
   "execution_count": null,
   "metadata": {},
   "outputs": [],
   "source": []
  },
  {
   "cell_type": "code",
   "execution_count": null,
   "metadata": {},
   "outputs": [],
   "source": []
  }
 ],
 "metadata": {
  "kernelspec": {
   "display_name": "Python 3",
   "language": "python",
   "name": "python3"
  },
  "language_info": {
   "codemirror_mode": {
    "name": "ipython",
    "version": 3
   },
   "file_extension": ".py",
   "mimetype": "text/x-python",
   "name": "python",
   "nbconvert_exporter": "python",
   "pygments_lexer": "ipython3",
   "version": "3.7.5"
  }
 },
 "nbformat": 4,
 "nbformat_minor": 4
}
