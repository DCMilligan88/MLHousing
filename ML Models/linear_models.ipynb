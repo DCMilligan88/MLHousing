{
 "cells": [
  {
   "cell_type": "markdown",
   "metadata": {},
   "source": [
    "## Setup"
   ]
  },
  {
   "cell_type": "code",
   "execution_count": 2,
   "metadata": {},
   "outputs": [],
   "source": [
    "# Import Dependencies.\n",
    "import matplotlib.pyplot as plt\n",
    "import numpy as np\n",
    "import pandas as pd\n",
    "\n",
    "import requests\n",
    "import json\n",
    "\n",
    "from sklearn.model_selection import train_test_split\n",
    "from sklearn.preprocessing import StandardScaler\n",
    "from sklearn.linear_model import LinearRegression\n",
    "from sklearn.linear_model import Lasso\n",
    "from sklearn.linear_model import Ridge\n",
    "from sklearn.linear_model import ElasticNet\n",
    "from sklearn.metrics import mean_squared_error\n",
    "from sklearn.model_selection import GridSearchCV"
   ]
  },
  {
   "cell_type": "code",
   "execution_count": 3,
   "metadata": {},
   "outputs": [
    {
     "name": "stdout",
     "output_type": "stream",
     "text": [
      "{\n",
      "    \"address\": \"17452 NE GLISAN ST #7, Portland OR 97230\",\n",
      "    \"bathrooms\": 2.0,\n",
      "    \"bedrooms\": 2,\n",
      "    \"built\": 1988,\n",
      "    \"city\": \"Portland\",\n",
      "    \"county\": \"Multnomah\",\n",
      "    \"elementary_school\": \"Hartley\",\n",
      "    \"high_school\": \"Reynolds\",\n",
      "    \"home_type\": \"Manufactured - Double Wide Manufact\",\n",
      "    \"lot_size\": null,\n",
      "    \"middle_school\": \"Reynolds\",\n",
      "    \"neighborhood\": \"unknown\",\n",
      "    \"price\": 72000,\n",
      "    \"square_feet\": 1152,\n",
      "    \"zipcode\": 97230\n",
      "}\n"
     ]
    }
   ],
   "source": [
    "# Fetch the data from the API.\n",
    "listings_json = requests.get(\"http://127.0.0.1:5000/api/v1.0/listings\").json()\n",
    "\n",
    "# Examine the data.\n",
    "print(json.dumps(listings_json[0], indent=4, sort_keys=True))"
   ]
  },
  {
   "cell_type": "code",
   "execution_count": 4,
   "metadata": {},
   "outputs": [
    {
     "name": "stdout",
     "output_type": "stream",
     "text": [
      "1822\n"
     ]
    },
    {
     "data": {
      "text/html": [
       "<div>\n",
       "<style scoped>\n",
       "    .dataframe tbody tr th:only-of-type {\n",
       "        vertical-align: middle;\n",
       "    }\n",
       "\n",
       "    .dataframe tbody tr th {\n",
       "        vertical-align: top;\n",
       "    }\n",
       "\n",
       "    .dataframe thead th {\n",
       "        text-align: right;\n",
       "    }\n",
       "</style>\n",
       "<table border=\"1\" class=\"dataframe\">\n",
       "  <thead>\n",
       "    <tr style=\"text-align: right;\">\n",
       "      <th></th>\n",
       "      <th>address</th>\n",
       "      <th>bathrooms</th>\n",
       "      <th>bedrooms</th>\n",
       "      <th>built</th>\n",
       "      <th>city</th>\n",
       "      <th>county</th>\n",
       "      <th>elementary_school</th>\n",
       "      <th>high_school</th>\n",
       "      <th>home_type</th>\n",
       "      <th>lot_size</th>\n",
       "      <th>middle_school</th>\n",
       "      <th>neighborhood</th>\n",
       "      <th>price</th>\n",
       "      <th>square_feet</th>\n",
       "      <th>zipcode</th>\n",
       "    </tr>\n",
       "  </thead>\n",
       "  <tbody>\n",
       "    <tr>\n",
       "      <th>0</th>\n",
       "      <td>17452 NE GLISAN ST #7, Portland OR 97230</td>\n",
       "      <td>2.0</td>\n",
       "      <td>2</td>\n",
       "      <td>1988</td>\n",
       "      <td>Portland</td>\n",
       "      <td>Multnomah</td>\n",
       "      <td>Hartley</td>\n",
       "      <td>Reynolds</td>\n",
       "      <td>Manufactured - Double Wide Manufact</td>\n",
       "      <td>NaN</td>\n",
       "      <td>Reynolds</td>\n",
       "      <td>unknown</td>\n",
       "      <td>72000</td>\n",
       "      <td>1152</td>\n",
       "      <td>97230</td>\n",
       "    </tr>\n",
       "    <tr>\n",
       "      <th>1</th>\n",
       "      <td>16000 SE POWELL BLVD 75, Portland OR 97236</td>\n",
       "      <td>2.0</td>\n",
       "      <td>3</td>\n",
       "      <td>1990</td>\n",
       "      <td>Portland</td>\n",
       "      <td>Multnomah</td>\n",
       "      <td>Powell Butte</td>\n",
       "      <td>Centennial</td>\n",
       "      <td>Manufactured - Double Wide Manufact</td>\n",
       "      <td>NaN</td>\n",
       "      <td>Centennial</td>\n",
       "      <td>unknown</td>\n",
       "      <td>79950</td>\n",
       "      <td>1404</td>\n",
       "      <td>97236</td>\n",
       "    </tr>\n",
       "    <tr>\n",
       "      <th>2</th>\n",
       "      <td>12846 SE RAMONA ST 6, Portland OR 97236</td>\n",
       "      <td>2.0</td>\n",
       "      <td>3</td>\n",
       "      <td>1997</td>\n",
       "      <td>Portland</td>\n",
       "      <td>Multnomah</td>\n",
       "      <td>Gilbert Hts</td>\n",
       "      <td>David Douglas</td>\n",
       "      <td>Manufactured - Double Wide Manufact</td>\n",
       "      <td>NaN</td>\n",
       "      <td>Alice Ott</td>\n",
       "      <td>unknown</td>\n",
       "      <td>93900</td>\n",
       "      <td>1297</td>\n",
       "      <td>97236</td>\n",
       "    </tr>\n",
       "    <tr>\n",
       "      <th>3</th>\n",
       "      <td>7720 S Macadam AVE 7, Portland OR 97219</td>\n",
       "      <td>3.0</td>\n",
       "      <td>3</td>\n",
       "      <td>1988</td>\n",
       "      <td>Portland</td>\n",
       "      <td>Multnomah</td>\n",
       "      <td>Other</td>\n",
       "      <td>Other</td>\n",
       "      <td>Floating Home - Contemporary</td>\n",
       "      <td>NaN</td>\n",
       "      <td>Other</td>\n",
       "      <td>unknown</td>\n",
       "      <td>125000</td>\n",
       "      <td>2432</td>\n",
       "      <td>97219</td>\n",
       "    </tr>\n",
       "    <tr>\n",
       "      <th>4</th>\n",
       "      <td>19609 NE Marine DR E-4, Portland OR 97230</td>\n",
       "      <td>1.0</td>\n",
       "      <td>1</td>\n",
       "      <td>1960</td>\n",
       "      <td>Portland</td>\n",
       "      <td>Multnomah</td>\n",
       "      <td>Salish Pond</td>\n",
       "      <td>Reynolds</td>\n",
       "      <td>Floating Home - Cabin</td>\n",
       "      <td>NaN</td>\n",
       "      <td>Reynolds</td>\n",
       "      <td>unknown</td>\n",
       "      <td>129500</td>\n",
       "      <td>735</td>\n",
       "      <td>97230</td>\n",
       "    </tr>\n",
       "  </tbody>\n",
       "</table>\n",
       "</div>"
      ],
      "text/plain": [
       "                                      address  bathrooms  bedrooms  built  \\\n",
       "0    17452 NE GLISAN ST #7, Portland OR 97230        2.0         2   1988   \n",
       "1  16000 SE POWELL BLVD 75, Portland OR 97236        2.0         3   1990   \n",
       "2     12846 SE RAMONA ST 6, Portland OR 97236        2.0         3   1997   \n",
       "3     7720 S Macadam AVE 7, Portland OR 97219        3.0         3   1988   \n",
       "4   19609 NE Marine DR E-4, Portland OR 97230        1.0         1   1960   \n",
       "\n",
       "       city     county elementary_school    high_school  \\\n",
       "0  Portland  Multnomah           Hartley       Reynolds   \n",
       "1  Portland  Multnomah      Powell Butte     Centennial   \n",
       "2  Portland  Multnomah       Gilbert Hts  David Douglas   \n",
       "3  Portland  Multnomah             Other          Other   \n",
       "4  Portland  Multnomah       Salish Pond       Reynolds   \n",
       "\n",
       "                             home_type  lot_size middle_school neighborhood  \\\n",
       "0  Manufactured - Double Wide Manufact       NaN      Reynolds      unknown   \n",
       "1  Manufactured - Double Wide Manufact       NaN    Centennial      unknown   \n",
       "2  Manufactured - Double Wide Manufact       NaN     Alice Ott      unknown   \n",
       "3         Floating Home - Contemporary       NaN         Other      unknown   \n",
       "4                Floating Home - Cabin       NaN      Reynolds      unknown   \n",
       "\n",
       "    price  square_feet  zipcode  \n",
       "0   72000         1152    97230  \n",
       "1   79950         1404    97236  \n",
       "2   93900         1297    97236  \n",
       "3  125000         2432    97219  \n",
       "4  129500          735    97230  "
      ]
     },
     "execution_count": 4,
     "metadata": {},
     "output_type": "execute_result"
    }
   ],
   "source": [
    "# Create a dataframe to use for our model.\n",
    "data_df = pd.DataFrame(listings_json)\n",
    "\n",
    "print(len(data_df))\n",
    "data_df.head()"
   ]
  },
  {
   "cell_type": "markdown",
   "metadata": {},
   "source": [
    "## Data Preprocessing"
   ]
  },
  {
   "cell_type": "code",
   "execution_count": 11,
   "metadata": {},
   "outputs": [
    {
     "name": "stdout",
     "output_type": "stream",
     "text": [
      "1725\n"
     ]
    },
    {
     "data": {
      "text/html": [
       "<div>\n",
       "<style scoped>\n",
       "    .dataframe tbody tr th:only-of-type {\n",
       "        vertical-align: middle;\n",
       "    }\n",
       "\n",
       "    .dataframe tbody tr th {\n",
       "        vertical-align: top;\n",
       "    }\n",
       "\n",
       "    .dataframe thead th {\n",
       "        text-align: right;\n",
       "    }\n",
       "</style>\n",
       "<table border=\"1\" class=\"dataframe\">\n",
       "  <thead>\n",
       "    <tr style=\"text-align: right;\">\n",
       "      <th></th>\n",
       "      <th>bathrooms</th>\n",
       "      <th>bedrooms</th>\n",
       "      <th>built</th>\n",
       "      <th>lot_size</th>\n",
       "      <th>square_feet</th>\n",
       "      <th>price</th>\n",
       "    </tr>\n",
       "  </thead>\n",
       "  <tbody>\n",
       "    <tr>\n",
       "      <th>3</th>\n",
       "      <td>3.0</td>\n",
       "      <td>3</td>\n",
       "      <td>1988</td>\n",
       "      <td>0.0</td>\n",
       "      <td>2432</td>\n",
       "      <td>125000</td>\n",
       "    </tr>\n",
       "    <tr>\n",
       "      <th>4</th>\n",
       "      <td>1.0</td>\n",
       "      <td>1</td>\n",
       "      <td>1960</td>\n",
       "      <td>0.0</td>\n",
       "      <td>735</td>\n",
       "      <td>129500</td>\n",
       "    </tr>\n",
       "    <tr>\n",
       "      <th>5</th>\n",
       "      <td>1.0</td>\n",
       "      <td>1</td>\n",
       "      <td>1974</td>\n",
       "      <td>0.0</td>\n",
       "      <td>720</td>\n",
       "      <td>141900</td>\n",
       "    </tr>\n",
       "    <tr>\n",
       "      <th>6</th>\n",
       "      <td>1.0</td>\n",
       "      <td>1</td>\n",
       "      <td>1927</td>\n",
       "      <td>0.0</td>\n",
       "      <td>382</td>\n",
       "      <td>144900</td>\n",
       "    </tr>\n",
       "    <tr>\n",
       "      <th>7</th>\n",
       "      <td>1.0</td>\n",
       "      <td>1</td>\n",
       "      <td>2004</td>\n",
       "      <td>0.0</td>\n",
       "      <td>513</td>\n",
       "      <td>149900</td>\n",
       "    </tr>\n",
       "  </tbody>\n",
       "</table>\n",
       "</div>"
      ],
      "text/plain": [
       "   bathrooms  bedrooms  built  lot_size  square_feet   price\n",
       "3        3.0         3   1988       0.0         2432  125000\n",
       "4        1.0         1   1960       0.0          735  129500\n",
       "5        1.0         1   1974       0.0          720  141900\n",
       "6        1.0         1   1927       0.0          382  144900\n",
       "7        1.0         1   2004       0.0          513  149900"
      ]
     },
     "execution_count": 11,
     "metadata": {},
     "output_type": "execute_result"
    }
   ],
   "source": [
    "# Make a copy of the original data frame to modify.\n",
    "model_df = data_df\n",
    "\n",
    "# Insert a lot value of 0 for condos and floating homes.\n",
    "for index, row in model_df.iterrows():\n",
    "    if (\"Condo\" in row[\"home_type\"]) | (\"Floating\" in row[\"home_type\"]):\n",
    "        model_df.loc[index, \"lot_size\"] = 0\n",
    "    else:\n",
    "        pass\n",
    "\n",
    "# Include only those columns that will be used in the deep learning model.\n",
    "model_df = model_df.loc[:, [\"bathrooms\", \"bedrooms\", \"built\", \"lot_size\", \"square_feet\", \"price\"]]\n",
    "# Chose not to include high_school due to lousy random forest fitting.\n",
    "# Drop rows with NaN entries.\n",
    "model_df.dropna(inplace=True)\n",
    "\n",
    "# Check the model data.\n",
    "print(len(model_df))\n",
    "model_df.head()"
   ]
  },
  {
   "cell_type": "code",
   "execution_count": 12,
   "metadata": {},
   "outputs": [],
   "source": [
    "# Assign X (input) and y (target).\n",
    "\n",
    "X = model_df.loc[:, [\"bathrooms\", \"bedrooms\", \"square_feet\", \"lot_size\", \"built\"]]\n",
    "y = model_df.loc[:,\"price\"].values.reshape(-1, 1)"
   ]
  },
  {
   "cell_type": "code",
   "execution_count": 13,
   "metadata": {},
   "outputs": [],
   "source": [
    "# Split the data into training and testing\n",
    "\n",
    "X_train, X_test, y_train, y_test = train_test_split(X, y, random_state=42)"
   ]
  },
  {
   "cell_type": "code",
   "execution_count": 14,
   "metadata": {},
   "outputs": [],
   "source": [
    "# Create a StandardScater model and fit it to the training data\n",
    "\n",
    "X_scaler = StandardScaler().fit(X_train)\n",
    "y_scaler = StandardScaler().fit(y_train)"
   ]
  },
  {
   "cell_type": "code",
   "execution_count": 15,
   "metadata": {},
   "outputs": [],
   "source": [
    "# Transform the training and testing data using the X_scaler and y_scaler models.\n",
    "\n",
    "X_train_scaled = X_scaler.transform(X_train)\n",
    "X_test_scaled = X_scaler.transform(X_test)\n",
    "y_train_scaled = y_scaler.transform(y_train)\n",
    "y_test_scaled = y_scaler.transform(y_test)"
   ]
  },
  {
   "cell_type": "markdown",
   "metadata": {},
   "source": [
    "## Model Creation, Training, and Testing"
   ]
  },
  {
   "cell_type": "code",
   "execution_count": 16,
   "metadata": {},
   "outputs": [
    {
     "data": {
      "text/plain": [
       "LinearRegression(copy_X=True, fit_intercept=True, n_jobs=None, normalize=False)"
      ]
     },
     "execution_count": 16,
     "metadata": {},
     "output_type": "execute_result"
    }
   ],
   "source": [
    "# Create a LinearRegression model and fit it to the scaled training data\n",
    "\n",
    "model = LinearRegression()\n",
    "model.fit(X_train_scaled, y_train_scaled)"
   ]
  },
  {
   "cell_type": "code",
   "execution_count": 33,
   "metadata": {},
   "outputs": [
    {
     "data": {
      "image/png": "[encoded data removed]",
      "text/plain": [
       "<Figure size 432x288 with 1 Axes>"
      ]
     },
     "metadata": {
      "needs_background": "light"
     },
     "output_type": "display_data"
    },
    {
     "data": {
      "text/plain": [
       "7.738646964398389"
      ]
     },
     "execution_count": 33,
     "metadata": {},
     "output_type": "execute_result"
    }
   ],
   "source": [
    "# Make predictions using a fitted model.\n",
    "# Plot the difference between the model predicted values and actual y values, versus the model predicted values.\n",
    "\n",
    "plt.scatter(model.predict(X_train_scaled), model.predict(X_train_scaled) - y_train_scaled, c=\"blue\", label=\"Training Data\")\n",
    "plt.scatter(model.predict(X_test_scaled), model.predict(X_test_scaled) - y_test_scaled, c=\"orange\", label=\"Testing Data\")\n",
    "plt.legend()\n",
    "plt.hlines(y=0, xmin=y_test_scaled.min(), xmax=y_test_scaled.max())\n",
    "plt.title(\"LinReg Residual Plot\")\n",
    "plt.show()\n",
    "y_test_scaled.max()"
   ]
  },
  {
   "cell_type": "code",
   "execution_count": 19,
   "metadata": {},
   "outputs": [
    {
     "name": "stdout",
     "output_type": "stream",
     "text": [
      "MSE: 0.8565737703913088, R2: 0.40785841450261595\n"
     ]
    }
   ],
   "source": [
    "# Used X_test_scaled, y_test_scaled, and model.predict(X_test_scaled) to calculate MSE and R2.\n",
    "\n",
    "predictions = model.predict(X_test_scaled)\n",
    "MSE = mean_squared_error(y_test_scaled, predictions)\n",
    "r2 = model.score(X_test_scaled, y_test_scaled)\n",
    "\n",
    "print(f\"MSE: {MSE}, R2: {r2}\")"
   ]
  },
  {
   "cell_type": "code",
   "execution_count": 20,
   "metadata": {},
   "outputs": [
    {
     "name": "stdout",
     "output_type": "stream",
     "text": [
      "Fitting 5 folds for each of 6 candidates, totalling 30 fits\n",
      "[CV] alpha=0.1 .......................................................\n"
     ]
    },
    {
     "name": "stderr",
     "output_type": "stream",
     "text": [
      "[Parallel(n_jobs=1)]: Using backend SequentialBackend with 1 concurrent workers.\n"
     ]
    },
    {
     "name": "stdout",
     "output_type": "stream",
     "text": [
      "[CV] ........................................ alpha=0.1, total=   0.2s\n",
      "[CV] alpha=0.1 .......................................................\n",
      "[CV] ........................................ alpha=0.1, total=   0.0s\n",
      "[CV] alpha=0.1 .......................................................\n",
      "[CV] ........................................ alpha=0.1, total=   0.0s\n",
      "[CV] alpha=0.1 .......................................................\n",
      "[CV] ........................................ alpha=0.1, total=   0.0s\n",
      "[CV] alpha=0.1 .......................................................\n",
      "[CV] ........................................ alpha=0.1, total=   0.0s\n",
      "[CV] alpha=0.01 ......................................................\n",
      "[CV] ....................................... alpha=0.01, total=   0.0s\n",
      "[CV] alpha=0.01 ......................................................\n",
      "[CV] ....................................... alpha=0.01, total=   0.0s\n",
      "[CV] alpha=0.01 ......................................................\n",
      "[CV] ....................................... alpha=0.01, total=   0.0s\n",
      "[CV] alpha=0.01 ......................................................\n",
      "[CV] ....................................... alpha=0.01, total=   0.0s\n",
      "[CV] alpha=0.01 ......................................................\n",
      "[CV] ....................................... alpha=0.01, total=   0.0s\n",
      "[CV] alpha=0.001 .....................................................\n",
      "[CV] ...................................... alpha=0.001, total=   0.0s\n",
      "[CV] alpha=0.001 .....................................................\n",
      "[CV] ...................................... alpha=0.001, total=   0.0s\n",
      "[CV] alpha=0.001 .....................................................\n",
      "[CV] ...................................... alpha=0.001, total=   0.0s\n",
      "[CV] alpha=0.001 .....................................................\n",
      "[CV] ...................................... alpha=0.001, total=   0.0s\n",
      "[CV] alpha=0.001 .....................................................\n",
      "[CV] ...................................... alpha=0.001, total=   0.0s\n",
      "[CV] alpha=0.0001 ....................................................\n",
      "[CV] ..................................... alpha=0.0001, total=   0.0s\n",
      "[CV] alpha=0.0001 ....................................................\n",
      "[CV] ..................................... alpha=0.0001, total=   0.0s\n",
      "[CV] alpha=0.0001 ....................................................\n",
      "[CV] ..................................... alpha=0.0001, total=   0.0s\n",
      "[CV] alpha=0.0001 ....................................................\n",
      "[CV] ..................................... alpha=0.0001, total=   0.0s\n",
      "[CV] alpha=0.0001 ....................................................\n",
      "[CV] ..................................... alpha=0.0001, total=   0.0s\n",
      "[CV] alpha=1e-05 .....................................................\n",
      "[CV] ...................................... alpha=1e-05, total=   0.0s\n",
      "[CV] alpha=1e-05 .....................................................\n",
      "[CV] ...................................... alpha=1e-05, total=   0.0s\n",
      "[CV] alpha=1e-05 .....................................................\n",
      "[CV] ...................................... alpha=1e-05, total=   0.0s\n",
      "[CV] alpha=1e-05 .....................................................\n",
      "[CV] ...................................... alpha=1e-05, total=   0.0s\n",
      "[CV] alpha=1e-05 .....................................................\n",
      "[CV] ...................................... alpha=1e-05, total=   0.0s\n",
      "[CV] alpha=1e-06 .....................................................\n",
      "[CV] ...................................... alpha=1e-06, total=   0.0s\n",
      "[CV] alpha=1e-06 .....................................................\n",
      "[CV] ...................................... alpha=1e-06, total=   0.0s\n",
      "[CV] alpha=1e-06 .....................................................\n",
      "[CV] ...................................... alpha=1e-06, total=   0.0s\n",
      "[CV] alpha=1e-06 .....................................................\n",
      "[CV] ...................................... alpha=1e-06, total=   0.0s\n",
      "[CV] alpha=1e-06 .....................................................\n",
      "[CV] ...................................... alpha=1e-06, total=   0.0s\n"
     ]
    },
    {
     "name": "stderr",
     "output_type": "stream",
     "text": [
      "[Parallel(n_jobs=1)]: Done   1 out of   1 | elapsed:    0.1s remaining:    0.0s\n",
      "[Parallel(n_jobs=1)]: Done  30 out of  30 | elapsed:    0.2s finished\n"
     ]
    },
    {
     "data": {
      "text/plain": [
       "GridSearchCV(cv=None, error_score=nan,\n",
       "             estimator=Lasso(alpha=1.0, copy_X=True, fit_intercept=True,\n",
       "                             max_iter=1000, normalize=False, positive=False,\n",
       "                             precompute=False, random_state=None,\n",
       "                             selection='cyclic', tol=0.0001, warm_start=False),\n",
       "             iid='deprecated', n_jobs=None,\n",
       "             param_grid={'alpha': array([1.e-01, 1.e-02, 1.e-03, 1.e-04, 1.e-05, 1.e-06])},\n",
       "             pre_dispatch='2*n_jobs', refit=True, return_train_score=False,\n",
       "             scoring=None, verbose=2)"
      ]
     },
     "execution_count": 20,
     "metadata": {},
     "output_type": "execute_result"
    }
   ],
   "source": [
    "# LASSO model.\n",
    "\n",
    "lasso = GridSearchCV(Lasso(), {\"alpha\":10.0 ** -np.arange(1, 7)}, verbose=2)\n",
    "lasso.fit(X_train_scaled, y_train_scaled)"
   ]
  },
  {
   "cell_type": "code",
   "execution_count": 22,
   "metadata": {},
   "outputs": [
    {
     "name": "stdout",
     "output_type": "stream",
     "text": [
      "{'alpha': 0.01}\n",
      "0.5867826563626133\n"
     ]
    }
   ],
   "source": [
    "# List the best parameters and best score for LASSO.\n",
    "print(lasso.best_params_)\n",
    "print(lasso.best_score_)"
   ]
  },
  {
   "cell_type": "code",
   "execution_count": 23,
   "metadata": {},
   "outputs": [
    {
     "data": {
      "image/png": "[encoded data removed]",
      "text/plain": [
       "<Figure size 432x288 with 1 Axes>"
      ]
     },
     "metadata": {
      "needs_background": "light"
     },
     "output_type": "display_data"
    }
   ],
   "source": [
    "# Make predictions using a fitted lasso model.\n",
    "# Plot the difference between the model predicted values and actual y values, versus the model predicted values.\n",
    "\n",
    "plt.scatter(lasso.predict(X_train_scaled), lasso.predict(X_train_scaled) - list(np.ravel(y_train_scaled)), c=\"blue\", label=\"Training Data\")\n",
    "plt.scatter(lasso.predict(X_test_scaled), lasso.predict(X_test_scaled) - list(np.ravel(y_test_scaled)), c=\"orange\", label=\"Testing Data\")\n",
    "plt.legend()\n",
    "plt.hlines(y=0, xmin=y_test_scaled.min(), xmax=y_test_scaled.max())\n",
    "plt.title(\"LASSO Residual Plot\")\n",
    "plt.show()"
   ]
  },
  {
   "cell_type": "code",
   "execution_count": 24,
   "metadata": {},
   "outputs": [
    {
     "name": "stdout",
     "output_type": "stream",
     "text": [
      "MSE: 0.8213364908797424, R2: 0.4322176224072211\n"
     ]
    }
   ],
   "source": [
    "# Used X_test_scaled, y_test_scaled, and lasso.predict(X_test_scaled) to calculate MSE and R2.\n",
    "\n",
    "lasso_predictions = lasso.predict(X_test_scaled)\n",
    "lasso_MSE = mean_squared_error(y_test_scaled, lasso_predictions)\n",
    "lasso_r2 = lasso.score(X_test_scaled, y_test_scaled)\n",
    "\n",
    "print(f\"MSE: {lasso_MSE}, R2: {lasso_r2}\")"
   ]
  },
  {
   "cell_type": "code",
   "execution_count": 25,
   "metadata": {},
   "outputs": [
    {
     "name": "stdout",
     "output_type": "stream",
     "text": [
      "Fitting 5 folds for each of 6 candidates, totalling 30 fits\n",
      "[CV] alpha=0.1 .......................................................\n"
     ]
    },
    {
     "name": "stderr",
     "output_type": "stream",
     "text": [
      "[Parallel(n_jobs=1)]: Using backend SequentialBackend with 1 concurrent workers.\n"
     ]
    },
    {
     "name": "stdout",
     "output_type": "stream",
     "text": [
      "[CV] ........................................ alpha=0.1, total=   0.4s\n",
      "[CV] alpha=0.1 .......................................................\n",
      "[CV] ........................................ alpha=0.1, total=   0.0s\n",
      "[CV] alpha=0.1 .......................................................\n",
      "[CV] ........................................ alpha=0.1, total=   0.0s\n",
      "[CV] alpha=0.1 .......................................................\n",
      "[CV] ........................................ alpha=0.1, total=   0.0s\n",
      "[CV] alpha=0.1 .......................................................\n",
      "[CV] ........................................ alpha=0.1, total=   0.0s\n",
      "[CV] alpha=0.01 ......................................................\n",
      "[CV] ....................................... alpha=0.01, total=   0.0s\n",
      "[CV] alpha=0.01 ......................................................\n",
      "[CV] ....................................... alpha=0.01, total=   0.0s\n",
      "[CV] alpha=0.01 ......................................................\n",
      "[CV] ....................................... alpha=0.01, total=   0.0s\n",
      "[CV] alpha=0.01 ......................................................\n",
      "[CV] ....................................... alpha=0.01, total=   0.0s\n",
      "[CV] alpha=0.01 ......................................................\n",
      "[CV] ....................................... alpha=0.01, total=   0.0s\n",
      "[CV] alpha=0.001 .....................................................\n",
      "[CV] ...................................... alpha=0.001, total=   0.0s\n",
      "[CV] alpha=0.001 .....................................................\n",
      "[CV] ...................................... alpha=0.001, total=   0.0s\n",
      "[CV] alpha=0.001 .....................................................\n",
      "[CV] ...................................... alpha=0.001, total=   0.0s\n",
      "[CV] alpha=0.001 .....................................................\n",
      "[CV] ...................................... alpha=0.001, total=   0.0s\n",
      "[CV] alpha=0.001 .....................................................\n",
      "[CV] ...................................... alpha=0.001, total=   0.0s\n",
      "[CV] alpha=0.0001 ....................................................\n",
      "[CV] ..................................... alpha=0.0001, total=   0.0s\n",
      "[CV] alpha=0.0001 ....................................................\n",
      "[CV] ..................................... alpha=0.0001, total=   0.0s\n",
      "[CV] alpha=0.0001 ....................................................\n",
      "[CV] ..................................... alpha=0.0001, total=   0.0s\n",
      "[CV] alpha=0.0001 ....................................................\n",
      "[CV] ..................................... alpha=0.0001, total=   0.0s\n",
      "[CV] alpha=0.0001 ....................................................\n",
      "[CV] ..................................... alpha=0.0001, total=   0.0s\n",
      "[CV] alpha=1e-05 .....................................................\n",
      "[CV] ...................................... alpha=1e-05, total=   0.0s\n",
      "[CV] alpha=1e-05 .....................................................\n",
      "[CV] ...................................... alpha=1e-05, total=   0.0s\n",
      "[CV] alpha=1e-05 .....................................................\n",
      "[CV] ...................................... alpha=1e-05, total=   0.0s\n",
      "[CV] alpha=1e-05 .....................................................\n",
      "[CV] ...................................... alpha=1e-05, total=   0.0s\n",
      "[CV] alpha=1e-05 .....................................................\n",
      "[CV] ...................................... alpha=1e-05, total=   0.0s\n",
      "[CV] alpha=1e-06 .....................................................\n",
      "[CV] ...................................... alpha=1e-06, total=   0.0s\n",
      "[CV] alpha=1e-06 .....................................................\n",
      "[CV] ...................................... alpha=1e-06, total=   0.0s\n",
      "[CV] alpha=1e-06 .....................................................\n",
      "[CV] ...................................... alpha=1e-06, total=   0.0s\n",
      "[CV] alpha=1e-06 .....................................................\n",
      "[CV] ...................................... alpha=1e-06, total=   0.0s\n",
      "[CV] alpha=1e-06 .....................................................\n",
      "[CV] ...................................... alpha=1e-06, total=   0.0s\n"
     ]
    },
    {
     "name": "stderr",
     "output_type": "stream",
     "text": [
      "[Parallel(n_jobs=1)]: Done   1 out of   1 | elapsed:    0.3s remaining:    0.0s\n",
      "[Parallel(n_jobs=1)]: Done  30 out of  30 | elapsed:    0.4s finished\n"
     ]
    },
    {
     "data": {
      "text/plain": [
       "GridSearchCV(cv=None, error_score=nan,\n",
       "             estimator=Ridge(alpha=1.0, copy_X=True, fit_intercept=True,\n",
       "                             max_iter=None, normalize=False, random_state=None,\n",
       "                             solver='auto', tol=0.001),\n",
       "             iid='deprecated', n_jobs=None,\n",
       "             param_grid={'alpha': array([1.e-01, 1.e-02, 1.e-03, 1.e-04, 1.e-05, 1.e-06])},\n",
       "             pre_dispatch='2*n_jobs', refit=True, return_train_score=False,\n",
       "             scoring=None, verbose=2)"
      ]
     },
     "execution_count": 25,
     "metadata": {},
     "output_type": "execute_result"
    }
   ],
   "source": [
    "# Ridge model.\n",
    "\n",
    "ridge = GridSearchCV(Ridge(), {\"alpha\":10.0 ** -np.arange(1, 7)}, verbose=2)\n",
    "ridge.fit(X_train_scaled, y_train_scaled)"
   ]
  },
  {
   "cell_type": "code",
   "execution_count": 31,
   "metadata": {},
   "outputs": [
    {
     "name": "stdout",
     "output_type": "stream",
     "text": [
      "{'alpha': 0.1}\n",
      "0.5865729291914047\n"
     ]
    }
   ],
   "source": [
    "# List the best parameters and best score for Ridge.\n",
    "print(ridge.best_params_)\n",
    "print(ridge.best_score_)"
   ]
  },
  {
   "cell_type": "code",
   "execution_count": 27,
   "metadata": {},
   "outputs": [
    {
     "data": {
      "image/png": "[encoded data removed]",
      "text/plain": [
       "<Figure size 432x288 with 1 Axes>"
      ]
     },
     "metadata": {
      "needs_background": "light"
     },
     "output_type": "display_data"
    }
   ],
   "source": [
    "# Make predictions using a fitted ridge model.\n",
    "# Plot the difference between the model predicted values and actual y values, versus the model predicted values.\n",
    "\n",
    "plt.scatter(ridge.predict(X_train_scaled), ridge.predict(X_train_scaled) - y_train_scaled, c=\"blue\", label=\"Training Data\")\n",
    "plt.scatter(ridge.predict(X_test_scaled), ridge.predict(X_test_scaled) - y_test_scaled, c=\"orange\", label=\"Testing Data\")\n",
    "plt.legend()\n",
    "plt.hlines(y=0, xmin=y_test_scaled.min(), xmax=y_test_scaled.max())\n",
    "plt.title(\"Ridge Residual Plot\")\n",
    "plt.show()"
   ]
  },
  {
   "cell_type": "code",
   "execution_count": 28,
   "metadata": {},
   "outputs": [
    {
     "name": "stdout",
     "output_type": "stream",
     "text": [
      "MSE: 0.8566696154397656, R2: 0.4077921577003216\n"
     ]
    }
   ],
   "source": [
    "# Used X_test_scaled, y_test_scaled, and ridge.predict(X_test_scaled) to calculate MSE and R2.\n",
    "\n",
    "ridge_predictions = ridge.predict(X_test_scaled)\n",
    "ridge_MSE = mean_squared_error(y_test_scaled, ridge_predictions)\n",
    "ridge_r2 = ridge.score(X_test_scaled, y_test_scaled)\n",
    "\n",
    "print(f\"MSE: {ridge_MSE}, R2: {ridge_r2}\")"
   ]
  },
  {
   "cell_type": "code",
   "execution_count": 29,
   "metadata": {},
   "outputs": [
    {
     "name": "stdout",
     "output_type": "stream",
     "text": [
      "Fitting 5 folds for each of 6 candidates, totalling 30 fits\n",
      "[CV] alpha=0.1 .......................................................\n",
      "[CV] ........................................ alpha=0.1, total=   0.0s\n",
      "[CV] alpha=0.1 .......................................................\n",
      "[CV] ........................................ alpha=0.1, total=   0.0s\n",
      "[CV] alpha=0.1 .......................................................\n",
      "[CV] ........................................ alpha=0.1, total=   0.0s\n",
      "[CV] alpha=0.1 .......................................................\n",
      "[CV] ........................................ alpha=0.1, total=   0.0s\n",
      "[CV] alpha=0.1 .......................................................\n",
      "[CV] ........................................ alpha=0.1, total=   0.0s\n",
      "[CV] alpha=0.01 ......................................................\n",
      "[CV] ....................................... alpha=0.01, total=   0.0s\n",
      "[CV] alpha=0.01 ......................................................\n",
      "[CV] ....................................... alpha=0.01, total=   0.0s\n",
      "[CV] alpha=0.01 ......................................................\n",
      "[CV] ....................................... alpha=0.01, total=   0.0s\n",
      "[CV] alpha=0.01 ......................................................\n",
      "[CV] ....................................... alpha=0.01, total=   0.0s\n",
      "[CV] alpha=0.01 ......................................................\n",
      "[CV] ....................................... alpha=0.01, total=   0.0s\n",
      "[CV] alpha=0.001 .....................................................\n",
      "[CV] ...................................... alpha=0.001, total=   0.0s\n",
      "[CV] alpha=0.001 .....................................................\n",
      "[CV] ...................................... alpha=0.001, total=   0.0s\n",
      "[CV] alpha=0.001 .....................................................\n",
      "[CV] ...................................... alpha=0.001, total=   0.0s\n",
      "[CV] alpha=0.001 .....................................................\n",
      "[CV] ...................................... alpha=0.001, total=   0.0s\n",
      "[CV] alpha=0.001 .....................................................\n",
      "[CV] ...................................... alpha=0.001, total=   0.0s\n",
      "[CV] alpha=0.0001 ....................................................\n",
      "[CV] ..................................... alpha=0.0001, total=   0.0s\n",
      "[CV] alpha=0.0001 ....................................................\n",
      "[CV] ..................................... alpha=0.0001, total=   0.0s\n",
      "[CV] alpha=0.0001 ....................................................\n",
      "[CV] ..................................... alpha=0.0001, total=   0.0s\n",
      "[CV] alpha=0.0001 ....................................................\n",
      "[CV] ..................................... alpha=0.0001, total=   0.0s\n",
      "[CV] alpha=0.0001 ....................................................\n",
      "[CV] ..................................... alpha=0.0001, total=   0.0s\n",
      "[CV] alpha=1e-05 .....................................................\n",
      "[CV] ...................................... alpha=1e-05, total=   0.0s\n",
      "[CV] alpha=1e-05 .....................................................\n",
      "[CV] ...................................... alpha=1e-05, total=   0.0s\n",
      "[CV] alpha=1e-05 .....................................................\n",
      "[CV] ...................................... alpha=1e-05, total=   0.0s\n",
      "[CV] alpha=1e-05 .....................................................\n",
      "[CV] ...................................... alpha=1e-05, total=   0.0s\n",
      "[CV] alpha=1e-05 .....................................................\n",
      "[CV] ...................................... alpha=1e-05, total=   0.0s\n",
      "[CV] alpha=1e-06 .....................................................\n",
      "[CV] ...................................... alpha=1e-06, total=   0.0s\n",
      "[CV] alpha=1e-06 .....................................................\n",
      "[CV] ...................................... alpha=1e-06, total=   0.0s\n",
      "[CV] alpha=1e-06 .....................................................\n",
      "[CV] ...................................... alpha=1e-06, total=   0.0s\n",
      "[CV] alpha=1e-06 .....................................................\n",
      "[CV] ...................................... alpha=1e-06, total=   0.0s\n",
      "[CV] alpha=1e-06 .....................................................\n",
      "[CV] ...................................... alpha=1e-06, total=   0.0s\n"
     ]
    },
    {
     "name": "stderr",
     "output_type": "stream",
     "text": [
      "[Parallel(n_jobs=1)]: Using backend SequentialBackend with 1 concurrent workers.\n",
      "[Parallel(n_jobs=1)]: Done   1 out of   1 | elapsed:    0.0s remaining:    0.0s\n",
      "[Parallel(n_jobs=1)]: Done  30 out of  30 | elapsed:    0.0s finished\n"
     ]
    },
    {
     "data": {
      "text/plain": [
       "GridSearchCV(cv=None, error_score=nan,\n",
       "             estimator=ElasticNet(alpha=1.0, copy_X=True, fit_intercept=True,\n",
       "                                  l1_ratio=0.5, max_iter=1000, normalize=False,\n",
       "                                  positive=False, precompute=False,\n",
       "                                  random_state=None, selection='cyclic',\n",
       "                                  tol=0.0001, warm_start=False),\n",
       "             iid='deprecated', n_jobs=None,\n",
       "             param_grid={'alpha': array([1.e-01, 1.e-02, 1.e-03, 1.e-04, 1.e-05, 1.e-06])},\n",
       "             pre_dispatch='2*n_jobs', refit=True, return_train_score=False,\n",
       "             scoring=None, verbose=2)"
      ]
     },
     "execution_count": 29,
     "metadata": {},
     "output_type": "execute_result"
    }
   ],
   "source": [
    "# ElasticNet model, we'll use gridsearch later to try out different alpha values later.\n",
    "\n",
    "elast = GridSearchCV(ElasticNet(), {\"alpha\":10.0 ** -np.arange(1, 7)}, verbose=2)\n",
    "elast.fit(X_train_scaled, y_train_scaled)"
   ]
  },
  {
   "cell_type": "code",
   "execution_count": 30,
   "metadata": {},
   "outputs": [
    {
     "name": "stdout",
     "output_type": "stream",
     "text": [
      "{'alpha': 0.01}\n",
      "0.5869966792244832\n"
     ]
    }
   ],
   "source": [
    "# List the best parameters and best score for ElasticNet.\n",
    "print(elast.best_params_)\n",
    "print(elast.best_score_)"
   ]
  },
  {
   "cell_type": "code",
   "execution_count": 32,
   "metadata": {},
   "outputs": [
    {
     "data": {
      "image/png": "[encoded data removed]",
      "text/plain": [
       "<Figure size 432x288 with 1 Axes>"
      ]
     },
     "metadata": {
      "needs_background": "light"
     },
     "output_type": "display_data"
    }
   ],
   "source": [
    "# Make predictions using a fitted elasticnet model.\n",
    "# Plot the difference between the model predicted values and actual y values, versus the model predicted values.\n",
    "\n",
    "plt.scatter(elast.predict(X_train_scaled), elast.predict(X_train_scaled) - list(np.ravel(y_train_scaled)), c=\"blue\", label=\"Training Data\")\n",
    "plt.scatter(elast.predict(X_test_scaled), elast.predict(X_test_scaled) - list(np.ravel(y_test_scaled)), c=\"orange\", label=\"Testing Data\")\n",
    "plt.legend()\n",
    "plt.hlines(y=0, xmin=y_test_scaled.min(), xmax=y_test_scaled.max())\n",
    "plt.title(\"ElasticNet Residual Plot\")\n",
    "plt.show()"
   ]
  },
  {
   "cell_type": "code",
   "execution_count": 34,
   "metadata": {},
   "outputs": [
    {
     "name": "stdout",
     "output_type": "stream",
     "text": [
      "MSE: 0.8442298461988296, R2: 0.4163916559994399\n"
     ]
    }
   ],
   "source": [
    "# Used X_test_scaled, y_test_scaled, and elast.predict(X_test_scaled) to calculate MSE and R2.\n",
    "\n",
    "elast_predictions = elast.predict(X_test_scaled)\n",
    "elast_MSE = mean_squared_error(y_test_scaled, elast_predictions)\n",
    "elast_r2 = elast.score(X_test_scaled, y_test_scaled)\n",
    "\n",
    "print(f\"MSE: {elast_MSE}, R2: {elast_r2}\")"
   ]
  }
 ],
 "metadata": {
  "kernelspec": {
   "display_name": "Python 3",
   "language": "python",
   "name": "python3"
  },
  "language_info": {
   "codemirror_mode": {
    "name": "ipython",
    "version": 3
   },
   "file_extension": ".py",
   "mimetype": "text/x-python",
   "name": "python",
   "nbconvert_exporter": "python",
   "pygments_lexer": "ipython3",
   "version": "3.7.7"
  }
 },
 "nbformat": 4,
 "nbformat_minor": 4
}
