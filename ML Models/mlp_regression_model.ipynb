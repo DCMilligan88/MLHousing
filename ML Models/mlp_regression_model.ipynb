{
 "cells": [
  {
   "cell_type": "markdown",
   "metadata": {},
   "source": [
    "## Setup"
   ]
  },
  {
   "cell_type": "code",
   "execution_count": 1,
   "metadata": {},
   "outputs": [],
   "source": [
    "# Import Dependencies.\n",
    "import matplotlib.pyplot as plt\n",
    "import numpy as np\n",
    "import pandas as pd\n",
    "\n",
    "import requests\n",
    "import json\n",
    "\n",
    "from sklearn.neural_network import MLPRegressor\n",
    "from sklearn.model_selection import train_test_split\n",
    "from sklearn.preprocessing import StandardScaler\n",
    "from sklearn.model_selection import GridSearchCV\n",
    "from sklearn.metrics import mean_squared_error"
   ]
  },
  {
   "cell_type": "code",
   "execution_count": 2,
   "metadata": {},
   "outputs": [
    {
     "name": "stdout",
     "output_type": "stream",
     "text": [
      "{\n",
      "    \"address\": \"17452 NE GLISAN ST #7, Portland OR 97230\",\n",
      "    \"bathrooms\": 2.0,\n",
      "    \"bedrooms\": 2,\n",
      "    \"built\": 1988,\n",
      "    \"city\": \"Portland\",\n",
      "    \"county\": \"Multnomah\",\n",
      "    \"elementary_school\": \"Hartley\",\n",
      "    \"high_school\": \"Reynolds\",\n",
      "    \"home_type\": \"Manufactured - Double Wide Manufact\",\n",
      "    \"lot_size\": null,\n",
      "    \"middle_school\": \"Reynolds\",\n",
      "    \"neighborhood\": \"unknown\",\n",
      "    \"price\": 72000,\n",
      "    \"square_feet\": 1152,\n",
      "    \"zipcode\": 97230\n",
      "}\n"
     ]
    }
   ],
   "source": [
    "# Fetch the data from the API.\n",
    "listings_json = requests.get(\"http://127.0.0.1:5000/api/v1.0/listings\").json()\n",
    "\n",
    "# Examine the data.\n",
    "print(json.dumps(listings_json[0], indent=4, sort_keys=True))"
   ]
  },
  {
   "cell_type": "code",
   "execution_count": 3,
   "metadata": {},
   "outputs": [
    {
     "name": "stdout",
     "output_type": "stream",
     "text": [
      "1822\n"
     ]
    },
    {
     "data": {
      "text/html": [
       "<div>\n",
       "<style scoped>\n",
       "    .dataframe tbody tr th:only-of-type {\n",
       "        vertical-align: middle;\n",
       "    }\n",
       "\n",
       "    .dataframe tbody tr th {\n",
       "        vertical-align: top;\n",
       "    }\n",
       "\n",
       "    .dataframe thead th {\n",
       "        text-align: right;\n",
       "    }\n",
       "</style>\n",
       "<table border=\"1\" class=\"dataframe\">\n",
       "  <thead>\n",
       "    <tr style=\"text-align: right;\">\n",
       "      <th></th>\n",
       "      <th>address</th>\n",
       "      <th>bathrooms</th>\n",
       "      <th>bedrooms</th>\n",
       "      <th>built</th>\n",
       "      <th>city</th>\n",
       "      <th>county</th>\n",
       "      <th>elementary_school</th>\n",
       "      <th>high_school</th>\n",
       "      <th>home_type</th>\n",
       "      <th>lot_size</th>\n",
       "      <th>middle_school</th>\n",
       "      <th>neighborhood</th>\n",
       "      <th>price</th>\n",
       "      <th>square_feet</th>\n",
       "      <th>zipcode</th>\n",
       "    </tr>\n",
       "  </thead>\n",
       "  <tbody>\n",
       "    <tr>\n",
       "      <th>0</th>\n",
       "      <td>17452 NE GLISAN ST #7, Portland OR 97230</td>\n",
       "      <td>2.0</td>\n",
       "      <td>2</td>\n",
       "      <td>1988</td>\n",
       "      <td>Portland</td>\n",
       "      <td>Multnomah</td>\n",
       "      <td>Hartley</td>\n",
       "      <td>Reynolds</td>\n",
       "      <td>Manufactured - Double Wide Manufact</td>\n",
       "      <td>NaN</td>\n",
       "      <td>Reynolds</td>\n",
       "      <td>unknown</td>\n",
       "      <td>72000</td>\n",
       "      <td>1152</td>\n",
       "      <td>97230</td>\n",
       "    </tr>\n",
       "    <tr>\n",
       "      <th>1</th>\n",
       "      <td>16000 SE POWELL BLVD 75, Portland OR 97236</td>\n",
       "      <td>2.0</td>\n",
       "      <td>3</td>\n",
       "      <td>1990</td>\n",
       "      <td>Portland</td>\n",
       "      <td>Multnomah</td>\n",
       "      <td>Powell Butte</td>\n",
       "      <td>Centennial</td>\n",
       "      <td>Manufactured - Double Wide Manufact</td>\n",
       "      <td>NaN</td>\n",
       "      <td>Centennial</td>\n",
       "      <td>unknown</td>\n",
       "      <td>79950</td>\n",
       "      <td>1404</td>\n",
       "      <td>97236</td>\n",
       "    </tr>\n",
       "    <tr>\n",
       "      <th>2</th>\n",
       "      <td>12846 SE RAMONA ST 6, Portland OR 97236</td>\n",
       "      <td>2.0</td>\n",
       "      <td>3</td>\n",
       "      <td>1997</td>\n",
       "      <td>Portland</td>\n",
       "      <td>Multnomah</td>\n",
       "      <td>Gilbert Hts</td>\n",
       "      <td>David Douglas</td>\n",
       "      <td>Manufactured - Double Wide Manufact</td>\n",
       "      <td>NaN</td>\n",
       "      <td>Alice Ott</td>\n",
       "      <td>unknown</td>\n",
       "      <td>93900</td>\n",
       "      <td>1297</td>\n",
       "      <td>97236</td>\n",
       "    </tr>\n",
       "    <tr>\n",
       "      <th>3</th>\n",
       "      <td>7720 S Macadam AVE 7, Portland OR 97219</td>\n",
       "      <td>3.0</td>\n",
       "      <td>3</td>\n",
       "      <td>1988</td>\n",
       "      <td>Portland</td>\n",
       "      <td>Multnomah</td>\n",
       "      <td>Other</td>\n",
       "      <td>Other</td>\n",
       "      <td>Floating Home - Contemporary</td>\n",
       "      <td>NaN</td>\n",
       "      <td>Other</td>\n",
       "      <td>unknown</td>\n",
       "      <td>125000</td>\n",
       "      <td>2432</td>\n",
       "      <td>97219</td>\n",
       "    </tr>\n",
       "    <tr>\n",
       "      <th>4</th>\n",
       "      <td>19609 NE Marine DR E-4, Portland OR 97230</td>\n",
       "      <td>1.0</td>\n",
       "      <td>1</td>\n",
       "      <td>1960</td>\n",
       "      <td>Portland</td>\n",
       "      <td>Multnomah</td>\n",
       "      <td>Salish Pond</td>\n",
       "      <td>Reynolds</td>\n",
       "      <td>Floating Home - Cabin</td>\n",
       "      <td>NaN</td>\n",
       "      <td>Reynolds</td>\n",
       "      <td>unknown</td>\n",
       "      <td>129500</td>\n",
       "      <td>735</td>\n",
       "      <td>97230</td>\n",
       "    </tr>\n",
       "  </tbody>\n",
       "</table>\n",
       "</div>"
      ],
      "text/plain": [
       "                                      address  bathrooms  bedrooms  built  \\\n",
       "0    17452 NE GLISAN ST #7, Portland OR 97230        2.0         2   1988   \n",
       "1  16000 SE POWELL BLVD 75, Portland OR 97236        2.0         3   1990   \n",
       "2     12846 SE RAMONA ST 6, Portland OR 97236        2.0         3   1997   \n",
       "3     7720 S Macadam AVE 7, Portland OR 97219        3.0         3   1988   \n",
       "4   19609 NE Marine DR E-4, Portland OR 97230        1.0         1   1960   \n",
       "\n",
       "       city     county elementary_school    high_school  \\\n",
       "0  Portland  Multnomah           Hartley       Reynolds   \n",
       "1  Portland  Multnomah      Powell Butte     Centennial   \n",
       "2  Portland  Multnomah       Gilbert Hts  David Douglas   \n",
       "3  Portland  Multnomah             Other          Other   \n",
       "4  Portland  Multnomah       Salish Pond       Reynolds   \n",
       "\n",
       "                             home_type  lot_size middle_school neighborhood  \\\n",
       "0  Manufactured - Double Wide Manufact       NaN      Reynolds      unknown   \n",
       "1  Manufactured - Double Wide Manufact       NaN    Centennial      unknown   \n",
       "2  Manufactured - Double Wide Manufact       NaN     Alice Ott      unknown   \n",
       "3         Floating Home - Contemporary       NaN         Other      unknown   \n",
       "4                Floating Home - Cabin       NaN      Reynolds      unknown   \n",
       "\n",
       "    price  square_feet  zipcode  \n",
       "0   72000         1152    97230  \n",
       "1   79950         1404    97236  \n",
       "2   93900         1297    97236  \n",
       "3  125000         2432    97219  \n",
       "4  129500          735    97230  "
      ]
     },
     "execution_count": 3,
     "metadata": {},
     "output_type": "execute_result"
    }
   ],
   "source": [
    "# Create a dataframe to use for our model.\n",
    "data_df = pd.DataFrame(listings_json)\n",
    "\n",
    "print(len(data_df))\n",
    "data_df.head()"
   ]
  },
  {
   "cell_type": "markdown",
   "metadata": {},
   "source": [
    "## Data Preprocessing"
   ]
  },
  {
   "cell_type": "code",
   "execution_count": 4,
   "metadata": {},
   "outputs": [
    {
     "name": "stdout",
     "output_type": "stream",
     "text": [
      "1725\n"
     ]
    },
    {
     "data": {
      "text/html": [
       "<div>\n",
       "<style scoped>\n",
       "    .dataframe tbody tr th:only-of-type {\n",
       "        vertical-align: middle;\n",
       "    }\n",
       "\n",
       "    .dataframe tbody tr th {\n",
       "        vertical-align: top;\n",
       "    }\n",
       "\n",
       "    .dataframe thead th {\n",
       "        text-align: right;\n",
       "    }\n",
       "</style>\n",
       "<table border=\"1\" class=\"dataframe\">\n",
       "  <thead>\n",
       "    <tr style=\"text-align: right;\">\n",
       "      <th></th>\n",
       "      <th>bathrooms</th>\n",
       "      <th>bedrooms</th>\n",
       "      <th>built</th>\n",
       "      <th>lot_size</th>\n",
       "      <th>square_feet</th>\n",
       "      <th>price</th>\n",
       "    </tr>\n",
       "  </thead>\n",
       "  <tbody>\n",
       "    <tr>\n",
       "      <th>3</th>\n",
       "      <td>3.0</td>\n",
       "      <td>3</td>\n",
       "      <td>1988</td>\n",
       "      <td>0.0</td>\n",
       "      <td>2432</td>\n",
       "      <td>125000</td>\n",
       "    </tr>\n",
       "    <tr>\n",
       "      <th>4</th>\n",
       "      <td>1.0</td>\n",
       "      <td>1</td>\n",
       "      <td>1960</td>\n",
       "      <td>0.0</td>\n",
       "      <td>735</td>\n",
       "      <td>129500</td>\n",
       "    </tr>\n",
       "    <tr>\n",
       "      <th>5</th>\n",
       "      <td>1.0</td>\n",
       "      <td>1</td>\n",
       "      <td>1974</td>\n",
       "      <td>0.0</td>\n",
       "      <td>720</td>\n",
       "      <td>141900</td>\n",
       "    </tr>\n",
       "    <tr>\n",
       "      <th>6</th>\n",
       "      <td>1.0</td>\n",
       "      <td>1</td>\n",
       "      <td>1927</td>\n",
       "      <td>0.0</td>\n",
       "      <td>382</td>\n",
       "      <td>144900</td>\n",
       "    </tr>\n",
       "    <tr>\n",
       "      <th>7</th>\n",
       "      <td>1.0</td>\n",
       "      <td>1</td>\n",
       "      <td>2004</td>\n",
       "      <td>0.0</td>\n",
       "      <td>513</td>\n",
       "      <td>149900</td>\n",
       "    </tr>\n",
       "  </tbody>\n",
       "</table>\n",
       "</div>"
      ],
      "text/plain": [
       "   bathrooms  bedrooms  built  lot_size  square_feet   price\n",
       "3        3.0         3   1988       0.0         2432  125000\n",
       "4        1.0         1   1960       0.0          735  129500\n",
       "5        1.0         1   1974       0.0          720  141900\n",
       "6        1.0         1   1927       0.0          382  144900\n",
       "7        1.0         1   2004       0.0          513  149900"
      ]
     },
     "execution_count": 4,
     "metadata": {},
     "output_type": "execute_result"
    }
   ],
   "source": [
    "# Make a copy of the original data frame to modify.\n",
    "model_df = data_df\n",
    "\n",
    "# Insert a lot value of 0 for condos and floating homes.\n",
    "for index, row in model_df.iterrows():\n",
    "    if (\"Condo\" in row[\"home_type\"]) | (\"Floating\" in row[\"home_type\"]):\n",
    "        model_df.loc[index, \"lot_size\"] = 0\n",
    "    else:\n",
    "        pass\n",
    "\n",
    "# Include only those columns that will be used in the deep learning model.\n",
    "model_df = model_df.loc[:, [\"bathrooms\", \"bedrooms\", \"built\", \"lot_size\", \"square_feet\", \"price\"]]\n",
    "# Drop rows with NaN entries.\n",
    "model_df.dropna(inplace=True)\n",
    "\n",
    "# Check the model data.\n",
    "print(len(model_df))\n",
    "model_df.head()"
   ]
  },
  {
   "cell_type": "code",
   "execution_count": 6,
   "metadata": {},
   "outputs": [],
   "source": [
    "# Assign X (input) and y (target).\n",
    "\n",
    "X = model_df.drop(\"price\", axis=1)\n",
    "y = model_df.loc[:,\"price\"].values.reshape(-1, 1)"
   ]
  },
  {
   "cell_type": "code",
   "execution_count": 7,
   "metadata": {},
   "outputs": [],
   "source": [
    "# Split the data into training and testing\n",
    "\n",
    "X_train, X_test, y_train, y_test = train_test_split(X, y, random_state=42)"
   ]
  },
  {
   "cell_type": "code",
   "execution_count": 8,
   "metadata": {},
   "outputs": [],
   "source": [
    "# Create a MinMaxScaler model and fit it to the training data\n",
    "\n",
    "X_scaler = StandardScaler().fit(X_train)\n",
    "y_scaler = StandardScaler().fit(y_train)"
   ]
  },
  {
   "cell_type": "code",
   "execution_count": 9,
   "metadata": {},
   "outputs": [],
   "source": [
    "# Transform the training and testing data using the X_scaler and y_scaler models.\n",
    "\n",
    "X_train_scaled = X_scaler.transform(X_train)\n",
    "X_test_scaled = X_scaler.transform(X_test)\n",
    "y_train_scaled = y_scaler.transform(y_train)\n",
    "y_test_scaled = y_scaler.transform(y_test)"
   ]
  },
  {
   "cell_type": "markdown",
   "metadata": {},
   "source": [
    "## Model Creation, Training, and Testing"
   ]
  },
  {
   "cell_type": "code",
   "execution_count": 15,
   "metadata": {},
   "outputs": [],
   "source": [
    "# Create an mlp model.\n",
    "model = MLPRegressor(hidden_layer_sizes=(100,100), random_state=42, max_iter=1000)"
   ]
  },
  {
   "cell_type": "code",
   "execution_count": 16,
   "metadata": {},
   "outputs": [
    {
     "name": "stdout",
     "output_type": "stream",
     "text": [
      "Fitting 5 folds for each of 6 candidates, totalling 30 fits\n",
      "[CV] alpha=0.1 .......................................................\n"
     ]
    },
    {
     "name": "stderr",
     "output_type": "stream",
     "text": [
      "[Parallel(n_jobs=1)]: Using backend SequentialBackend with 1 concurrent workers.\n"
     ]
    },
    {
     "name": "stdout",
     "output_type": "stream",
     "text": [
      "[CV] ........................................ alpha=0.1, total=   2.2s\n",
      "[CV] alpha=0.1 .......................................................\n"
     ]
    },
    {
     "name": "stderr",
     "output_type": "stream",
     "text": [
      "[Parallel(n_jobs=1)]: Done   1 out of   1 | elapsed:    2.1s remaining:    0.0s\n"
     ]
    },
    {
     "name": "stdout",
     "output_type": "stream",
     "text": [
      "[CV] ........................................ alpha=0.1, total=   2.4s\n",
      "[CV] alpha=0.1 .......................................................\n",
      "[CV] ........................................ alpha=0.1, total=   1.6s\n",
      "[CV] alpha=0.1 .......................................................\n",
      "[CV] ........................................ alpha=0.1, total=   2.8s\n",
      "[CV] alpha=0.1 .......................................................\n",
      "[CV] ........................................ alpha=0.1, total=   2.3s\n",
      "[CV] alpha=0.01 ......................................................\n",
      "[CV] ....................................... alpha=0.01, total=   3.1s\n",
      "[CV] alpha=0.01 ......................................................\n",
      "[CV] ....................................... alpha=0.01, total=   2.5s\n",
      "[CV] alpha=0.01 ......................................................\n",
      "[CV] ....................................... alpha=0.01, total=   1.8s\n",
      "[CV] alpha=0.01 ......................................................\n",
      "[CV] ....................................... alpha=0.01, total=   4.7s\n",
      "[CV] alpha=0.01 ......................................................\n",
      "[CV] ....................................... alpha=0.01, total=   3.8s\n",
      "[CV] alpha=0.001 .....................................................\n",
      "[CV] ...................................... alpha=0.001, total=   4.3s\n",
      "[CV] alpha=0.001 .....................................................\n",
      "[CV] ...................................... alpha=0.001, total=   7.1s\n",
      "[CV] alpha=0.001 .....................................................\n",
      "[CV] ...................................... alpha=0.001, total=   7.4s\n",
      "[CV] alpha=0.001 .....................................................\n",
      "[CV] ...................................... alpha=0.001, total=   3.9s\n",
      "[CV] alpha=0.001 .....................................................\n",
      "[CV] ...................................... alpha=0.001, total=  11.0s\n",
      "[CV] alpha=0.0001 ....................................................\n",
      "[CV] ..................................... alpha=0.0001, total=   2.5s\n",
      "[CV] alpha=0.0001 ....................................................\n",
      "[CV] ..................................... alpha=0.0001, total=   2.8s\n",
      "[CV] alpha=0.0001 ....................................................\n",
      "[CV] ..................................... alpha=0.0001, total=   1.7s\n",
      "[CV] alpha=0.0001 ....................................................\n",
      "[CV] ..................................... alpha=0.0001, total=   4.2s\n",
      "[CV] alpha=0.0001 ....................................................\n",
      "[CV] ..................................... alpha=0.0001, total=   2.8s\n",
      "[CV] alpha=1e-05 .....................................................\n",
      "[CV] ...................................... alpha=1e-05, total=   2.4s\n",
      "[CV] alpha=1e-05 .....................................................\n",
      "[CV] ...................................... alpha=1e-05, total=  10.8s\n",
      "[CV] alpha=1e-05 .....................................................\n",
      "[CV] ...................................... alpha=1e-05, total=   2.1s\n",
      "[CV] alpha=1e-05 .....................................................\n",
      "[CV] ...................................... alpha=1e-05, total=   3.9s\n",
      "[CV] alpha=1e-05 .....................................................\n",
      "[CV] ...................................... alpha=1e-05, total=   2.6s\n",
      "[CV] alpha=1e-06 .....................................................\n",
      "[CV] ...................................... alpha=1e-06, total=   2.1s\n",
      "[CV] alpha=1e-06 .....................................................\n",
      "[CV] ...................................... alpha=1e-06, total=   2.4s\n",
      "[CV] alpha=1e-06 .....................................................\n",
      "[CV] ...................................... alpha=1e-06, total=   2.2s\n",
      "[CV] alpha=1e-06 .....................................................\n",
      "[CV] ...................................... alpha=1e-06, total=   4.3s\n",
      "[CV] alpha=1e-06 .....................................................\n",
      "[CV] ...................................... alpha=1e-06, total=   2.8s\n"
     ]
    },
    {
     "name": "stderr",
     "output_type": "stream",
     "text": [
      "[Parallel(n_jobs=1)]: Done  30 out of  30 | elapsed:  1.8min finished\n"
     ]
    },
    {
     "data": {
      "text/plain": [
       "GridSearchCV(cv=None, error_score=nan,\n",
       "             estimator=MLPRegressor(activation='relu', alpha=0.0001,\n",
       "                                    batch_size='auto', beta_1=0.9, beta_2=0.999,\n",
       "                                    early_stopping=False, epsilon=1e-08,\n",
       "                                    hidden_layer_sizes=(100, 100),\n",
       "                                    learning_rate='constant',\n",
       "                                    learning_rate_init=0.001, max_fun=15000,\n",
       "                                    max_iter=1000, momentum=0.9,\n",
       "                                    n_iter_no_change=10,\n",
       "                                    nesterovs_momentum=True, power_t=0.5,\n",
       "                                    random_state=42, shuffle=True,\n",
       "                                    solver='adam', tol=0.0001,\n",
       "                                    validation_fraction=0.1, verbose=False,\n",
       "                                    warm_start=False),\n",
       "             iid='deprecated', n_jobs=None,\n",
       "             param_grid={'alpha': array([1.e-01, 1.e-02, 1.e-03, 1.e-04, 1.e-05, 1.e-06])},\n",
       "             pre_dispatch='2*n_jobs', refit=True, return_train_score=False,\n",
       "             scoring=None, verbose=2)"
      ]
     },
     "execution_count": 16,
     "metadata": {},
     "output_type": "execute_result"
    }
   ],
   "source": [
    "# Use grid search to tune the model.\n",
    "grid = GridSearchCV(model, {\"alpha\":10.0 ** -np.arange(1, 7)}, verbose=2)\n",
    "grid.fit(X_train_scaled, np.ravel(y_train_scaled))"
   ]
  },
  {
   "cell_type": "code",
   "execution_count": 17,
   "metadata": {},
   "outputs": [
    {
     "name": "stdout",
     "output_type": "stream",
     "text": [
      "{'alpha': 0.1}\n",
      "0.5926499312749705\n"
     ]
    }
   ],
   "source": [
    "# List the best parameters and best score.\n",
    "print(grid.best_params_)\n",
    "print(grid.best_score_)"
   ]
  },
  {
   "cell_type": "code",
   "execution_count": 18,
   "metadata": {},
   "outputs": [
    {
     "data": {
      "image/png": "[encoded data removed]",
      "text/plain": [
       "<Figure size 432x288 with 1 Axes>"
      ]
     },
     "metadata": {
      "needs_background": "light"
     },
     "output_type": "display_data"
    }
   ],
   "source": [
    "# Make predictions using a fitted MLPRegression model.\n",
    "# Plot the difference between the model predicted values and actual y values, versus the model predicted values.\n",
    "\n",
    "plt.scatter(grid.predict(X_train_scaled), grid.predict(X_train_scaled) - np.ravel(y_train_scaled), c=\"blue\", label=\"Training Data\")\n",
    "plt.scatter(grid.predict(X_test_scaled), grid.predict(X_test_scaled) - np.ravel(y_test_scaled), c=\"orange\", label=\"Testing Data\")\n",
    "plt.legend()\n",
    "plt.hlines(y=0, xmin=y_test_scaled.min(), xmax=y_test_scaled.max())\n",
    "plt.title(\"MLP Residual Plot\")\n",
    "plt.show()"
   ]
  },
  {
   "cell_type": "code",
   "execution_count": 19,
   "metadata": {},
   "outputs": [
    {
     "name": "stdout",
     "output_type": "stream",
     "text": [
      "MSE: 0.7134166347557871, R2: 0.5068216284144273\n"
     ]
    }
   ],
   "source": [
    "# Used X_test_scaled, y_test_scaled, and grid.predict(X_test_scaled) to calculate MSE and R2.\n",
    "\n",
    "grid_predictions = grid.predict(X_test_scaled)\n",
    "grid_MSE = mean_squared_error(y_test_scaled, grid_predictions)\n",
    "grid_r2 = grid.score(X_test_scaled, y_test_scaled)\n",
    "\n",
    "print(f\"MSE: {grid_MSE}, R2: {grid_r2}\")"
   ]
  }
 ],
 "metadata": {
  "kernelspec": {
   "display_name": "Python 3",
   "language": "python",
   "name": "python3"
  },
  "language_info": {
   "codemirror_mode": {
    "name": "ipython",
    "version": 3
   },
   "file_extension": ".py",
   "mimetype": "text/x-python",
   "name": "python",
   "nbconvert_exporter": "python",
   "pygments_lexer": "ipython3",
   "version": "3.7.7"
  }
 },
 "nbformat": 4,
 "nbformat_minor": 4
}
