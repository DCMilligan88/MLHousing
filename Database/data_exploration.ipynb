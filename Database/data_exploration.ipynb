{
 "cells": [
  {
   "cell_type": "code",
   "execution_count": 1,
   "metadata": {},
   "outputs": [],
   "source": [
    "# Ignore SQLITE warnings related to Decimal numbers in the housing database.\n",
    "import warnings\n",
    "warnings.filterwarnings('ignore')"
   ]
  },
  {
   "cell_type": "code",
   "execution_count": 2,
   "metadata": {},
   "outputs": [],
   "source": [
    "# Import Dependencies.\n",
    "import pandas as pd\n",
    "import numpy as np\n",
    "import sqlalchemy\n",
    "from sqlalchemy.ext.automap import automap_base\n",
    "from sqlalchemy.orm import Session\n",
    "from sqlalchemy import create_engine, inspect, func"
   ]
  },
  {
   "cell_type": "code",
   "execution_count": 3,
   "metadata": {},
   "outputs": [],
   "source": [
    "# Create an engine for the housing.sqlite database.\n",
    "engine = create_engine(\"sqlite:///../Resources/housingUpdated.sqlite\")"
   ]
  },
  {
   "cell_type": "code",
   "execution_count": 4,
   "metadata": {},
   "outputs": [],
   "source": [
    "# Reflect Database into ORM classes.\n",
    "Base = automap_base()\n",
    "Base.prepare(engine, reflect=True)"
   ]
  },
  {
   "cell_type": "code",
   "execution_count": 5,
   "metadata": {},
   "outputs": [],
   "source": [
    "# Create a database session object.\n",
    "session = Session(engine)"
   ]
  },
  {
   "cell_type": "code",
   "execution_count": 6,
   "metadata": {},
   "outputs": [
    {
     "data": {
      "text/plain": [
       "['listings']"
      ]
     },
     "execution_count": 6,
     "metadata": {},
     "output_type": "execute_result"
    }
   ],
   "source": [
    "# Get the table names of the database.\n",
    "inspector = inspect(engine)\n",
    "inspector.get_table_names()"
   ]
  },
  {
   "cell_type": "code",
   "execution_count": 7,
   "metadata": {},
   "outputs": [
    {
     "name": "stdout",
     "output_type": "stream",
     "text": [
      "id INTEGER\n",
      "address VARCHAR(255)\n",
      "price INTEGER\n",
      "home_type VARCHAR(255)\n",
      "bedrooms INTEGER\n",
      "bathrooms FLOAT\n",
      "square_feet INTEGER\n",
      "built INTEGER\n",
      "lot_size FLOAT\n",
      "neighborhood VARCHAR(255)\n",
      "county VARCHAR(255)\n",
      "city VARCHAR(255)\n",
      "zipcode INTEGER\n",
      "high_school VARCHAR(255)\n",
      "middle_school VARCHAR(255)\n",
      "elementary_school VARCHAR(255)\n"
     ]
    }
   ],
   "source": [
    "# Get the names and types of the columns for the table listings.\n",
    "columns = inspector.get_columns(\"listings\")\n",
    "for c in columns:\n",
    "    print(c[\"name\"], c[\"type\"])\n"
   ]
  },
  {
   "cell_type": "code",
   "execution_count": 8,
   "metadata": {},
   "outputs": [],
   "source": [
    "# Save a reference to the listings table as \"Listings\".\n",
    "Listings = Base.classes.listings"
   ]
  },
  {
   "cell_type": "code",
   "execution_count": 9,
   "metadata": {},
   "outputs": [
    {
     "data": {
      "text/plain": [
       "2064"
      ]
     },
     "execution_count": 9,
     "metadata": {},
     "output_type": "execute_result"
    }
   ],
   "source": [
    "# Count the number of entries in the listings table.\n",
    "listings_count = session.query(Listings).count()\n",
    "listings_count"
   ]
  },
  {
   "cell_type": "code",
   "execution_count": 10,
   "metadata": {},
   "outputs": [
    {
     "data": {
      "text/plain": [
       "73"
      ]
     },
     "execution_count": 10,
     "metadata": {},
     "output_type": "execute_result"
    }
   ],
   "source": [
    "# Count the number of distinct home types found in the listings table.\n",
    "home_types_count = session.query(Listings.home_type).distinct().count()\n",
    "home_types_count\n",
    "# Given the sheer number of categories, this seems a good variable to drop..."
   ]
  },
  {
   "cell_type": "code",
   "execution_count": 11,
   "metadata": {},
   "outputs": [
    {
     "data": {
      "text/plain": [
       "33"
      ]
     },
     "execution_count": 11,
     "metadata": {},
     "output_type": "execute_result"
    }
   ],
   "source": [
    "# City, county, and neighborhood would seem to be specified by zip code. Count the number of distinct zip codes.\n",
    "zipcode_count = session.query(Listings.zipcode).distinct().count()\n",
    "zipcode_count"
   ]
  },
  {
   "cell_type": "code",
   "execution_count": 12,
   "metadata": {},
   "outputs": [
    {
     "data": {
      "text/plain": [
       "(25, 62, 117)"
      ]
     },
     "execution_count": 12,
     "metadata": {},
     "output_type": "execute_result"
    }
   ],
   "source": [
    "# Count the number of schools for each level.\n",
    "hs_count = session.query(Listings.high_school).distinct().count()\n",
    "ms_count = session.query(Listings.middle_school).distinct().count()\n",
    "es_count = session.query(Listings.elementary_school).distinct().count()\n",
    "hs_count, ms_count, es_count\n",
    "# There are an awful lot of these, these categories may need to be removed when training models..."
   ]
  },
  {
   "cell_type": "code",
   "execution_count": 13,
   "metadata": {},
   "outputs": [
    {
     "data": {
      "text/plain": [
       "[('Current Price:'),\n",
       " ('Reynolds'),\n",
       " ('Centennial'),\n",
       " ('David Douglas'),\n",
       " ('Other'),\n",
       " ('Lincoln'),\n",
       " ('Jefferson'),\n",
       " ('Sunset'),\n",
       " ('Beaverton'),\n",
       " ('Roosevelt'),\n",
       " ('Wilson'),\n",
       " ('Madison'),\n",
       " ('Westview'),\n",
       " ('Franklin'),\n",
       " ('Cleveland'),\n",
       " ('Tualatin'),\n",
       " ('Grant'),\n",
       " ('Parkrose'),\n",
       " ('Tigard'),\n",
       " ('Milwaukie'),\n",
       " ('Southridge'),\n",
       " ('Liberty'),\n",
       " ('Riverdale'),\n",
       " ('Scappoose'),\n",
       " ('Lake Oswego')]"
      ]
     },
     "execution_count": 13,
     "metadata": {},
     "output_type": "execute_result"
    }
   ],
   "source": [
    "# Examine the values in high_school for potentially erroneous data.\n",
    "high_school_values = session.query(Listings.high_school).distinct().all()\n",
    "high_school_values"
   ]
  },
  {
   "cell_type": "code",
   "execution_count": 14,
   "metadata": {},
   "outputs": [
    {
     "data": {
      "text/plain": [
       "<sqlalchemy.engine.result.ResultProxy at 0x1b7580c7988>"
      ]
     },
     "execution_count": 14,
     "metadata": {},
     "output_type": "execute_result"
    }
   ],
   "source": [
    "# Remove rows where high school is listed as \"Current Price:\".\n",
    "deletion = Listings.__table__.delete().where(Listings.high_school==\"Current Price:\")\n",
    "engine.execute(deletion)"
   ]
  },
  {
   "cell_type": "code",
   "execution_count": 15,
   "metadata": {},
   "outputs": [
    {
     "data": {
      "text/plain": [
       "[('Reynolds'),\n",
       " ('Centennial'),\n",
       " ('David Douglas'),\n",
       " ('Other'),\n",
       " ('Lincoln'),\n",
       " ('Jefferson'),\n",
       " ('Sunset'),\n",
       " ('Beaverton'),\n",
       " ('Roosevelt'),\n",
       " ('Wilson'),\n",
       " ('Madison'),\n",
       " ('Westview'),\n",
       " ('Franklin'),\n",
       " ('Cleveland'),\n",
       " ('Tualatin'),\n",
       " ('Grant'),\n",
       " ('Parkrose'),\n",
       " ('Tigard'),\n",
       " ('Milwaukie'),\n",
       " ('Southridge'),\n",
       " ('Liberty'),\n",
       " ('Riverdale'),\n",
       " ('Scappoose'),\n",
       " ('Lake Oswego')]"
      ]
     },
     "execution_count": 15,
     "metadata": {},
     "output_type": "execute_result"
    }
   ],
   "source": [
    "# Check the high school values again to confirm deletion.\n",
    "high_school_values = session.query(Listings.high_school).distinct().all()\n",
    "high_school_values"
   ]
  },
  {
   "cell_type": "code",
   "execution_count": 16,
   "metadata": {},
   "outputs": [
    {
     "data": {
      "text/plain": [
       "[(None),\n",
       " (0.07),\n",
       " (0.1),\n",
       " (0.16),\n",
       " (0.06),\n",
       " (0.15),\n",
       " (0.22),\n",
       " (0.17),\n",
       " (0.11),\n",
       " (0.04),\n",
       " (0.03),\n",
       " (0.02),\n",
       " (0.32),\n",
       " (0.21),\n",
       " (0.37),\n",
       " (0.53),\n",
       " (0.18),\n",
       " (0.13),\n",
       " (0.19),\n",
       " (0.39),\n",
       " (0.23),\n",
       " (0.3),\n",
       " (0.25),\n",
       " (0.35),\n",
       " (0.14),\n",
       " (0.12),\n",
       " (0.33),\n",
       " (0.09),\n",
       " (0.05),\n",
       " (0.2),\n",
       " (0.28),\n",
       " (0.5),\n",
       " (0.29),\n",
       " (0.24),\n",
       " (0.27),\n",
       " (1.09),\n",
       " (0.31),\n",
       " (0.34),\n",
       " (0.47),\n",
       " (0.26),\n",
       " (0.52),\n",
       " (0.7),\n",
       " (0.08),\n",
       " (0.57),\n",
       " (0.36),\n",
       " (0.63),\n",
       " (0.95),\n",
       " (2.1),\n",
       " (0.49),\n",
       " (0.48),\n",
       " (2.07),\n",
       " (0.45),\n",
       " (1.3),\n",
       " (0.01),\n",
       " (0.38),\n",
       " (0.43),\n",
       " (0.59),\n",
       " (0.85),\n",
       " (0.42),\n",
       " (0.56),\n",
       " (0.66),\n",
       " (1.78),\n",
       " (0.71),\n",
       " (0.77),\n",
       " (1.29),\n",
       " (5.04),\n",
       " (0.46),\n",
       " (0.55),\n",
       " (0.4),\n",
       " (15.23),\n",
       " (0.69),\n",
       " (0.76),\n",
       " (0.88),\n",
       " (3.12),\n",
       " (0.44),\n",
       " (0.97),\n",
       " (3.9),\n",
       " (0.83),\n",
       " (1.0),\n",
       " (0.58),\n",
       " (0.51),\n",
       " (0.8),\n",
       " (0.61),\n",
       " (0.75),\n",
       " (3.55),\n",
       " (0.64),\n",
       " (5.0),\n",
       " (2.08),\n",
       " (2.01),\n",
       " (0.41),\n",
       " (0.89),\n",
       " (1.62),\n",
       " (0.94),\n",
       " (1.37),\n",
       " (0.54),\n",
       " (1.12),\n",
       " (0.78),\n",
       " (2.86),\n",
       " (1.68),\n",
       " (4.85),\n",
       " (1.06),\n",
       " (0.73),\n",
       " (0.9),\n",
       " (7.44),\n",
       " (0.79),\n",
       " (1.22),\n",
       " (2.0),\n",
       " (25.25),\n",
       " (1.03),\n",
       " (72.71),\n",
       " (3.06),\n",
       " (1.31),\n",
       " (0.72),\n",
       " (6.35),\n",
       " (1.91),\n",
       " (10.09),\n",
       " (6.4),\n",
       " (1.23),\n",
       " (1.77),\n",
       " (1.57),\n",
       " (0.96),\n",
       " (2.28),\n",
       " (0.93),\n",
       " (0.84),\n",
       " (26.36)]"
      ]
     },
     "execution_count": 16,
     "metadata": {},
     "output_type": "execute_result"
    }
   ],
   "source": [
    "# Examine the values for lot_size.\n",
    "lot_size_values = session.query(Listings.lot_size).distinct().all()\n",
    "lot_size_values"
   ]
  },
  {
   "cell_type": "code",
   "execution_count": 17,
   "metadata": {},
   "outputs": [
    {
     "data": {
      "text/plain": [
       "[('Manufactured - Double Wide Manufact'),\n",
       " ('Floating Home - Contemporary'),\n",
       " ('Floating Home - Cabin'),\n",
       " ('Condo - Traditional'),\n",
       " ('Condo - Common Wall'),\n",
       " ('Condo - Other'),\n",
       " ('Single Family - Bungalow'),\n",
       " ('Condo - 1 Story'),\n",
       " ('Condo - Contemporary'),\n",
       " ('Condo - FourSquare'),\n",
       " ('Condo - Studio'),\n",
       " ('Condo - Tri Level'),\n",
       " ('Floating Home - Bungalow'),\n",
       " ('Floating Home - Manufactured Home'),\n",
       " ('Condo - 2 Story'),\n",
       " ('Floating Home - 2 Story'),\n",
       " ('Floating Home - 1 Story'),\n",
       " ('Manufactured - Manufactured Home'),\n",
       " ('Single Family - Ranch'),\n",
       " ('Condo - Mediterranean/Missio'),\n",
       " ('Condo - Detached Condo'),\n",
       " ('Condo - Craftsman'),\n",
       " ('Single Family - Townhouse'),\n",
       " ('Single Family - Traditional'),\n",
       " ('Condo - Townhouse'),\n",
       " ('Floating Home - Custom Style'),\n",
       " ('Condo - Row House'),\n",
       " ('Floating Home - Cottage'),\n",
       " ('Single Family - 1 Story'),\n",
       " ('Floating Home - Traditional'),\n",
       " ('Condo - Ranch'),\n",
       " ('Single Family - Craftsman'),\n",
       " ('Condo - Mid-Century Modern'),\n",
       " ('Condo - Tudor'),\n",
       " ('Single Family - 2 Story'),\n",
       " ('Condo - Capecod'),\n",
       " ('Single Family - Cottage'),\n",
       " ('Condo - Loft'),\n",
       " ('Single Family - Capecod'),\n",
       " ('Condo - NW Contemporary'),\n",
       " ('Single Family - Daylight Ranch'),\n",
       " ('Condo - English'),\n",
       " ('Condo - Bungalow'),\n",
       " ('Condo - Colonial'),\n",
       " ('Condo - Custom Style'),\n",
       " ('Single Family - Contemporary'),\n",
       " ('Single Family - Tudor'),\n",
       " ('Single Family - Tri Level'),\n",
       " ('Condo - Chalet'),\n",
       " ('Floating Home - Capecod'),\n",
       " ('Single Family - Split'),\n",
       " ('Single Family - FourSquare'),\n",
       " ('Condo - Cottage'),\n",
       " ('Single Family - Other'),\n",
       " ('Single Family - Mid-Century Modern'),\n",
       " ('Single Family - Saltbox'),\n",
       " ('Single Family - Victorian'),\n",
       " ('Single Family - Cabin'),\n",
       " ('Single Family - English'),\n",
       " ('Condo - Georgian'),\n",
       " ('Single Family - Dutch Colonial'),\n",
       " ('Single Family - Custom Style'),\n",
       " ('Single Family - Farmhouse'),\n",
       " ('Condo - Farmhouse'),\n",
       " ('Single Family - A-Frame'),\n",
       " ('Single Family - NW Contemporary'),\n",
       " ('Single Family - Lodge'),\n",
       " ('Single Family - Colonial'),\n",
       " ('Single Family - Detached Condo'),\n",
       " ('Single Family - Country French'),\n",
       " ('Single Family - Mediterranean/Missio'),\n",
       " ('Single Family - Georgian'),\n",
       " ('Condo - Split')]"
      ]
     },
     "execution_count": 17,
     "metadata": {},
     "output_type": "execute_result"
    }
   ],
   "source": [
    "# Examine the values for home_type.\n",
    "home_type_values = session.query(Listings.home_type).distinct().all()\n",
    "home_type_values"
   ]
  },
  {
   "cell_type": "code",
   "execution_count": 18,
   "metadata": {},
   "outputs": [],
   "source": [
    "# Close the session.\n",
    "session.close()"
   ]
  }
 ],
 "metadata": {
  "kernelspec": {
   "display_name": "Python 3",
   "language": "python",
   "name": "python3"
  },
  "language_info": {
   "codemirror_mode": {
    "name": "ipython",
    "version": 3
   },
   "file_extension": ".py",
   "mimetype": "text/x-python",
   "name": "python",
   "nbconvert_exporter": "python",
   "pygments_lexer": "ipython3",
   "version": "3.7.7"
  }
 },
 "nbformat": 4,
 "nbformat_minor": 4
}
